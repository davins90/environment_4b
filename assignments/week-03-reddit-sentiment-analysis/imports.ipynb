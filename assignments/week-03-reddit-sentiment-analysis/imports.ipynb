{
 "cells": [
  {
   "cell_type": "code",
   "execution_count": 1,
   "id": "dd8ca316",
   "metadata": {},
   "outputs": [
    {
     "name": "stdout",
     "output_type": "stream",
     "text": [
      "Defaulting to user installation because normal site-packages is not writeable\n",
      "Collecting transformers\n",
      "  Downloading transformers-4.24.0-py3-none-any.whl (5.5 MB)\n",
      "\u001b[K     |████████████████████████████████| 5.5 MB 2.1 MB/s eta 0:00:01     |█████████████████████████████▎  | 5.0 MB 2.1 MB/s eta 0:00:01\n",
      "\u001b[?25hCollecting praw\n",
      "  Downloading praw-7.6.0-py3-none-any.whl (188 kB)\n",
      "\u001b[K     |████████████████████████████████| 188 kB 9.9 MB/s eta 0:00:01\n",
      "\u001b[?25hCollecting torch\n",
      "  Downloading torch-1.13.0-cp39-cp39-manylinux1_x86_64.whl (890.2 MB)\n",
      "\u001b[K     |████████████████████████████████| 890.2 MB 21 kB/s s eta 0:00:01  |▎                               | 7.1 MB 7.2 MB/s eta 0:02:03     |█                               | 28.1 MB 10.6 MB/s eta 0:01:22     |██                              | 55.6 MB 8.1 MB/s eta 0:01:43     |██                              | 57.8 MB 5.9 MB/s eta 0:02:22     |██▏                             | 59.6 MB 5.9 MB/s eta 0:02:22     |██▏                             | 60.9 MB 5.9 MB/s eta 0:02:22     |███▍                            | 95.6 MB 8.5 MB/s eta 0:01:34     |███▋                            | 100.6 MB 7.2 MB/s eta 0:01:51     |████▏                           | 115.0 MB 10.5 MB/s eta 0:01:14     |█████▍                          | 150.1 MB 14.4 MB/s eta 0:00:52     |█████▌                          | 152.6 MB 14.4 MB/s eta 0:00:52     |██████                          | 164.7 MB 18.3 MB/s eta 0:00:40     |██████▊                         | 188.3 MB 16.0 MB/s eta 0:00:44     |███████                         | 192.2 MB 13.8 MB/s eta 0:00:51��███▍                        | 205.0 MB 13.8 MB/s eta 0:00:50     |███████▋                        | 212.3 MB 14.8 MB/s eta 0:00:46     |███████▉                        | 217.9 MB 14.8 MB/s eta 0:00:46     |███████▉                        | 218.7 MB 14.8 MB/s eta 0:00:46     |████████                        | 220.9 MB 9.0 MB/s eta 0:01:15     |████████                        | 221.6 MB 9.0 MB/s eta 0:01:15     |████████▏                       | 228.2 MB 9.0 MB/s eta 0:01:14     |████████▌                       | 235.4 MB 23.3 MB/s eta 0:00:29     |█████████▍                      | 260.7 MB 11.4 MB/s eta 0:00:56     |█████████▌                      | 264.1 MB 11.7 MB/s eta 0:00:54     |█████████▌                      | 265.0 MB 11.7 MB/s eta 0:00:54MB/s eta 0:00:33     |███████████                     | 308.0 MB 10.7 MB/s eta 0:00:55     |███████████▏                    | 310.1 MB 10.7 MB/s eta 0:00:55     |███████████▍                    | 318.2 MB 10.2 MB/s eta 0:00:57     |████████████▏                   | 339.5 MB 21.9 MB/s eta 0:00:26     |████████████▎                   | 342.0 MB 21.9 MB/s eta 0:00:26     |████████████▋                   | 352.2 MB 6.5 MB/s eta 0:01:23     |█████████████                   | 363.7 MB 6.5 MB/s eta 0:01:21     |█████████████▎                  | 368.7 MB 32.5 MB/s eta 0:00:17     |██████████████                  | 386.9 MB 10.6 MB/s eta 0:00:48     |██████████████▎                 | 396.4 MB 26.6 MB/s eta 0:00:19     |██████████████▎                 | 397.9 MB 26.6 MB/s eta 0:00:19     |██████████████▌                 | 402.5 MB 26.6 MB/s eta 0:00:19/s eta 0:00:29     |████████████████▉               | 468.8 MB 9.2 MB/s eta 0:00:47     |████████████████▉               | 469.5 MB 9.2 MB/s eta 0:00:46     |█████████████████▎              | 479.5 MB 7.0 MB/s eta 0:01:00     |█████████████████▎              | 481.6 MB 7.0 MB/s eta 0:00:59     |██████████████████▊             | 522.3 MB 19.7 MB/s eta 0:00:19     |██████████████████▉             | 524.5 MB 19.7 MB/s eta 0:00:19��█▏            | 534.3 MB 11.1 MB/s eta 0:00:32��█▌            | 541.6 MB 10.8 MB/s eta 0:00:33��████████████▎           | 563.3 MB 33.3 MB/s eta 0:00:10     |████████████████████▌           | 568.8 MB 11.2 MB/s eta 0:00:29     |████████████████████▌           | 570.8 MB 11.2 MB/s eta 0:00:29     |████████████████████▉           | 579.2 MB 7.8 MB/s eta 0:00:40     |█████████████████████▏          | 588.7 MB 6.3 MB/s eta 0:00:49     |█████████████████████▍          | 595.0 MB 6.3 MB/s eta 0:00:48     |█████████████████████▊          | 605.5 MB 17.4 MB/s eta 0:00:17     |██████████████████████▏         | 616.9 MB 10.8 MB/s eta 0:00:26     |██████████████████████▏         | 617.7 MB 10.8 MB/s eta 0:00:26     |██████████████████████▎         | 618.3 MB 10.8 MB/s eta 0:00:26     |██████████████████████▊         | 630.8 MB 7.2 MB/s eta 0:00:37     |██████████████████████▉         | 636.0 MB 10.4 MB/s eta 0:00:25     |███████████████████████         | 641.8 MB 10.4 MB/s eta 0:00:24     |███████████████████████▍        | 649.2 MB 15.6 MB/s eta 0:00:16     |████████████████████████▎       | 675.5 MB 6.4 MB/s eta 0:00:34     |████████████████████████▊       | 686.7 MB 11.4 MB/s eta 0:00:18     |█████████████████████████       | 694.6 MB 7.4 MB/s eta 0:00:27     |█████████████████████████       | 697.0 MB 7.4 MB/s eta 0:00:26     |█████████████████████████▉      | 718.5 MB 39.0 MB/s eta 0:00:05     |█████████████████████████▉      | 720.0 MB 39.0 MB/s eta 0:00:05     |██████████████████████████      | 720.7 MB 39.0 MB/s eta 0:00:05 | 726.9 MB 8.9 MB/s eta 0:00:19 | 730.7 MB 8.9 MB/s eta 0:00:1832.1 MB 8.9 MB/s eta 0:00:18     |███████████████████████████▍    | 762.1 MB 20.8 MB/s eta 0:00:07     |███████████████████████████▌    | 764.5 MB 20.8 MB/s eta 0:00:07     |███████████████████████████▊    | 770.2 MB 4.9 MB/s eta 0:00:25     |████████████████████████████▏   | 782.0 MB 14.7 MB/s eta 0:00:08     |█████████████████████████████▎  | 812.9 MB 8.1 MB/s eta 0:00:10     |█████████████████████████████▍  | 818.1 MB 8.1 MB/s eta 0:00:09     |██████████████████████████████  | 836.6 MB 8.1 MB/s eta 0:00:07     |██████████████████████████████▋ | 850.1 MB 10.6 MB/s eta 0:00:04     |███████████████████████████████▏| 865.9 MB 18.3 MB/s eta 0:00:02\n",
      "\u001b[?25hCollecting tokenizers!=0.11.3,<0.14,>=0.11.1\n",
      "  Downloading tokenizers-0.13.2-cp39-cp39-manylinux_2_17_x86_64.manylinux2014_x86_64.whl (7.6 MB)\n",
      "\u001b[K     |████████████████████████████████| 7.6 MB 4.0 MB/s eta 0:00:01\n",
      "\u001b[?25hRequirement already satisfied: numpy>=1.17 in /anaconda/lib/python3.9/site-packages (from transformers) (1.20.3)\n",
      "Requirement already satisfied: filelock in /anaconda/lib/python3.9/site-packages (from transformers) (3.3.1)\n",
      "Collecting huggingface-hub<1.0,>=0.10.0\n",
      "  Downloading huggingface_hub-0.10.1-py3-none-any.whl (163 kB)\n",
      "\u001b[K     |████████████████████████████████| 163 kB 9.7 MB/s eta 0:00:01\n",
      "\u001b[?25hRequirement already satisfied: requests in /anaconda/lib/python3.9/site-packages (from transformers) (2.26.0)\n",
      "Requirement already satisfied: tqdm>=4.27 in /anaconda/lib/python3.9/site-packages (from transformers) (4.62.3)\n",
      "Requirement already satisfied: pyyaml>=5.1 in /anaconda/lib/python3.9/site-packages (from transformers) (6.0)\n",
      "Requirement already satisfied: packaging>=20.0 in /anaconda/lib/python3.9/site-packages (from transformers) (21.0)\n",
      "Requirement already satisfied: regex!=2019.12.17 in /anaconda/lib/python3.9/site-packages (from transformers) (2021.8.3)\n",
      "Collecting websocket-client>=0.54.0\n",
      "  Downloading websocket_client-1.4.2-py3-none-any.whl (55 kB)\n",
      "\u001b[K     |████████████████████████████████| 55 kB 3.5 MB/s  eta 0:00:01\n",
      "\u001b[?25hCollecting update-checker>=0.18\n",
      "  Downloading update_checker-0.18.0-py3-none-any.whl (7.0 kB)\n",
      "Collecting prawcore<3,>=2.1\n",
      "  Downloading prawcore-2.3.0-py3-none-any.whl (16 kB)\n",
      "Collecting nvidia-cuda-nvrtc-cu11==11.7.99\n",
      "  Downloading nvidia_cuda_nvrtc_cu11-11.7.99-2-py3-none-manylinux1_x86_64.whl (21.0 MB)\n",
      "\u001b[K     |████████████████████████████████| 21.0 MB 10.1 MB/s eta 0:00:01   |█                               | 706 kB 7.7 MB/s eta 0:00:03     |███████▉                        | 5.2 MB 7.7 MB/s eta 0:00:03████████▎             | 12.0 MB 8.7 MB/s eta 0:00:02\n",
      "\u001b[?25hCollecting nvidia-cublas-cu11==11.10.3.66\n",
      "  Downloading nvidia_cublas_cu11-11.10.3.66-py3-none-manylinux1_x86_64.whl (317.1 MB)\n",
      "\u001b[K     |████████████████████████████████| 317.1 MB 43 kB/s s eta 0:00:01  |▉                               | 7.8 MB 8.1 MB/s eta 0:00:39                      | 17.2 MB 9.5 MB/s eta 0:00:32     |████▏                           | 40.9 MB 16.2 MB/s eta 0:00:18     |█████▌                          | 54.3 MB 12.1 MB/s eta 0:00:22     |██████                          | 60.3 MB 12.1 MB/s eta 0:00:22     |███████▎                        | 72.6 MB 12.7 MB/s eta 0:00:20     |██████████████▍                 | 142.9 MB 1.5 MB/s eta 0:01:56     |████████████████▎               | 161.3 MB 3.9 MB/s eta 0:00:41��██████               | 168.7 MB 2.7 MB/s eta 0:00:55   | 192.7 MB 5.3 MB/s eta 0:00:24��████████████████████▌          | 213.5 MB 6.5 MB/s eta 0:00:16     |██████████████████████          | 219.0 MB 10.4 MB/s eta 0:00:10��███████████▊| 314.1 MB 21.9 MB/s eta 0:00:01��███████████▊| 314.8 MB 21.9 MB/s eta 0:00:01\n",
      "\u001b[?25hRequirement already satisfied: typing-extensions in /anaconda/lib/python3.9/site-packages (from torch) (3.10.0.2)\n",
      "Collecting nvidia-cudnn-cu11==8.5.0.96\n",
      "  Downloading nvidia_cudnn_cu11-8.5.0.96-2-py3-none-manylinux1_x86_64.whl (557.1 MB)\n",
      "\u001b[K     |████████████████████████████████| 557.1 MB 6.9 kB/s eta 0:00:013  |▏                               | 2.2 MB 6.2 MB/s eta 0:01:30     |██▎                             | 39.3 MB 11.7 MB/s eta 0:00:45     |████▊                           | 83.1 MB 11.3 MB/s eta 0:00:43     |██████                          | 103.2 MB 9.3 MB/s eta 0:00:49     |██████                          | 105.2 MB 9.3 MB/s eta 0:00:49     |██████▌                         | 113.0 MB 16.1 MB/s eta 0:00:28     |███████▏                        | 124.7 MB 10.3 MB/s eta 0:00:42     |███████▋                        | 132.1 MB 6.9 MB/s eta 0:01:02     |████████▏                       | 142.9 MB 6.9 MB/s eta 0:01:00     |█████████▏                      | 158.9 MB 32.0 MB/s eta 0:00:13     |█████████▊                      | 168.3 MB 32.0 MB/s eta 0:00:13     |█████████▊                      | 169.7 MB 32.0 MB/s eta 0:00:13     |██████████                      | 174.8 MB 11.1 MB/s eta 0:00:35     |███████████▏                    | 194.3 MB 19.6 MB/s eta 0:00:19     |███████████▌                    | 199.5 MB 19.6 MB/s eta 0:00:19     |████████████▌                   | 216.9 MB 16.7 MB/s eta 0:00:21     |████████████▉                   | 222.8 MB 16.7 MB/s eta 0:00:20     |█████████████▏                  | 228.5 MB 15.7 MB/s eta 0:00:21     |██████████████                  | 242.5 MB 7.6 MB/s eta 0:00:42     |██████████████                  | 243.3 MB 7.6 MB/s eta 0:00:42     |███████████████▍                | 267.0 MB 8.9 MB/s eta 0:00:33     |████████████████▏               | 280.6 MB 19.7 MB/s eta 0:00:15     |█████████████████▌              | 304.0 MB 11.4 MB/s eta 0:00:23     |█████████████████▊              | 307.7 MB 15.8 MB/s eta 0:00:16     |███████████████████             | 329.5 MB 6.6 MB/s eta 0:00:35     |███████████████████             | 331.6 MB 6.6 MB/s eta 0:00:35     |████████████████████▉           | 362.3 MB 7.8 MB/s eta 0:00:26     |█████████████████████           | 365.5 MB 7.8 MB/s eta 0:00:25     |█████████████████████▊          | 379.0 MB 18.6 MB/s eta 0:00:10     |██████████████████████          | 382.3 MB 16.8 MB/s eta 0:00:11██████████████████████▍       | 424.6 MB 13.8 MB/s eta 0:00:10██████████████████████▉       | 433.0 MB 13.8 MB/s eta 0:00:09     |█████████████████████████       | 436.2 MB 19.0 MB/s eta 0:00:07     |█████████████████████████▉      | 449.4 MB 8.4 MB/s eta 0:00:13     |██████████████████████████▎     | 457.1 MB 4.2 MB/s eta 0:00:24 | 460.2 MB 4.2 MB/s eta 0:00:24��████████▎    | 474.9 MB 7.9 MB/s eta 0:00:11     |████████████████████████████    | 485.7 MB 45.4 MB/s eta 0:00:02��███████████████████▎   | 492.6 MB 8.4 MB/s eta 0:00:08    |██████████████████████████████  | 522.8 MB 6.5 MB/s eta 0:00:061 MB 6.5 MB/s eta 0:00:055 MB 4.1 MB/s eta 0:00:06███████▏| 542.6 MB 5.1 MB/s eta 0:00:03     |███████████████████████████████▊| 552.3 MB 9.4 MB/s eta 0:00:01███████▉| 554.1 MB 9.4 MB/s eta 0:00:01     |████████████████████████████████| 556.3 MB 9.4 MB/s eta 0:00:01\n",
      "\u001b[?25hCollecting nvidia-cuda-runtime-cu11==11.7.99\n",
      "  Downloading nvidia_cuda_runtime_cu11-11.7.99-py3-none-manylinux1_x86_64.whl (849 kB)\n",
      "\u001b[K     |████████████████████████████████| 849 kB 8.3 MB/s eta 0:00:01\n",
      "\u001b[?25hRequirement already satisfied: wheel in /anaconda/lib/python3.9/site-packages (from nvidia-cublas-cu11==11.10.3.66->torch) (0.37.0)\n",
      "Requirement already satisfied: setuptools in /anaconda/lib/python3.9/site-packages (from nvidia-cublas-cu11==11.10.3.66->torch) (58.0.4)\n",
      "Requirement already satisfied: pyparsing>=2.0.2 in /anaconda/lib/python3.9/site-packages (from packaging>=20.0->transformers) (3.0.4)\n",
      "Requirement already satisfied: charset-normalizer~=2.0.0 in /anaconda/lib/python3.9/site-packages (from requests->transformers) (2.0.4)\n",
      "Requirement already satisfied: idna<4,>=2.5 in /anaconda/lib/python3.9/site-packages (from requests->transformers) (3.2)\n",
      "Requirement already satisfied: certifi>=2017.4.17 in /anaconda/lib/python3.9/site-packages (from requests->transformers) (2021.10.8)\n",
      "Requirement already satisfied: urllib3<1.27,>=1.21.1 in /anaconda/lib/python3.9/site-packages (from requests->transformers) (1.26.7)\n",
      "Installing collected packages: nvidia-cublas-cu11, websocket-client, update-checker, tokenizers, prawcore, nvidia-cudnn-cu11, nvidia-cuda-runtime-cu11, nvidia-cuda-nvrtc-cu11, huggingface-hub, transformers, torch, praw\n",
      "\u001b[33m  WARNING: The script wsdump is installed in '/home/feynman/.local/bin' which is not on PATH.\n",
      "  Consider adding this directory to PATH or, if you prefer to suppress this warning, use --no-warn-script-location.\u001b[0m\n",
      "\u001b[33m  WARNING: The script huggingface-cli is installed in '/home/feynman/.local/bin' which is not on PATH.\n",
      "  Consider adding this directory to PATH or, if you prefer to suppress this warning, use --no-warn-script-location.\u001b[0m\n",
      "\u001b[33m  WARNING: The script transformers-cli is installed in '/home/feynman/.local/bin' which is not on PATH.\n",
      "  Consider adding this directory to PATH or, if you prefer to suppress this warning, use --no-warn-script-location.\u001b[0m\n",
      "\u001b[33m  WARNING: The scripts convert-caffe2-to-onnx, convert-onnx-to-caffe2 and torchrun are installed in '/home/feynman/.local/bin' which is not on PATH.\n",
      "  Consider adding this directory to PATH or, if you prefer to suppress this warning, use --no-warn-script-location.\u001b[0m\n",
      "Successfully installed huggingface-hub-0.10.1 nvidia-cublas-cu11-11.10.3.66 nvidia-cuda-nvrtc-cu11-11.7.99 nvidia-cuda-runtime-cu11-11.7.99 nvidia-cudnn-cu11-8.5.0.96 praw-7.6.0 prawcore-2.3.0 tokenizers-0.13.2 torch-1.13.0 transformers-4.24.0 update-checker-0.18.0 websocket-client-1.4.2\n",
      "Note: you may need to restart the kernel to use updated packages.\n"
     ]
    }
   ],
   "source": [
    "pip install -U transformers praw torch"
   ]
  },
  {
   "cell_type": "code",
   "execution_count": null,
   "id": "cb22fa80-08c9-4584-a1a9-860870a4406e",
   "metadata": {},
   "outputs": [],
   "source": []
  }
 ],
 "metadata": {
  "kernelspec": {
   "display_name": "dev",
   "language": "python",
   "name": "python3"
  },
  "language_info": {
   "codemirror_mode": {
    "name": "ipython",
    "version": 3
   },
   "file_extension": ".py",
   "mimetype": "text/x-python",
   "name": "python",
   "nbconvert_exporter": "python",
   "pygments_lexer": "ipython3",
   "version": "3.9.7"
  }
 },
 "nbformat": 4,
 "nbformat_minor": 5
}
