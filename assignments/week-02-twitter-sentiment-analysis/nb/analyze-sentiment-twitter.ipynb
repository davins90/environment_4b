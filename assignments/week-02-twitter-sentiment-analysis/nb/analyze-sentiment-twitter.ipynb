{
 "cells": [
  {
   "cell_type": "markdown",
   "id": "24d097db",
   "metadata": {},
   "source": [
    "<p align = \"center\" draggable=”false” ><img src=\"https://user-images.githubusercontent.com/37101144/161836199-fdb0219d-0361-4988-bf26-48b0fad160a3.png\"\n",
    "     width=\"200px\"\n",
    "     height=\"auto\"/>\n",
    "</p>\n",
    "\n",
    "# <h1 align=\"center\" id=\"heading\">Sentiment Analysis of Twitter Data</h1>\n",
    "\n",
    "<hr>\n",
    "\n",
    "\n",
    "### ☑️ Objectives\n",
    "At the end of this session, you will be able to:\n",
    "- [ ] Understand how to find and run pre-trained models\n",
    "- [ ] Evaluate results from pre-trained models\n",
    "- [ ] Run a pre-trained model using real twitter data\n",
    "\n",
    "\n",
    "### 🔨 Pre-Assignment\n",
    "\n",
    "Create a new Conda environment for sentiment anaylsis (sa)\n",
    "\n",
    "```bash\n",
    "  conda create -n sa python=3.8 jupyter -y\n",
    "```\n",
    "\n",
    "Activate your new environment\n",
    "```bash\n",
    "  conda activate sa\n",
    "```\n",
    "\n",
    "Open the jupyter-notebook\n",
    "```bash\n",
    "  jupyter-notebook\n",
    "```\n",
    "\n",
    "Navigate through the repo in the notebook to find `imports.ipynb` for this week and open it.\n",
    "\n",
    "Run all of the cells in the notebook.\n",
    "\n",
    "\n",
    "### Background\n",
    "Please review the weekly narrative [here](https://www.notion.so/Week-2-Data-Centric-AI-the-AI-Product-Lifecycle-72a84c1517b44fcbb3e6bd11d47477dc#2b73937612bb46559f5b91dc2bf55e7d)\n",
    "\n",
    "\n"
   ]
  },
  {
   "cell_type": "markdown",
   "id": "b3934e6e",
   "metadata": {},
   "source": [
    "<hr>"
   ]
  },
  {
   "cell_type": "markdown",
   "id": "d1a5ab14",
   "metadata": {},
   "source": [
    "## 🚀 Let's Get Started"
   ]
  },
  {
   "cell_type": "markdown",
   "id": "bea542cb",
   "metadata": {},
   "source": [
    "Let's first start with our imports"
   ]
  },
  {
   "cell_type": "code",
   "execution_count": 1,
   "id": "f67dcb2b",
   "metadata": {
    "scrolled": true
   },
   "outputs": [
    {
     "name": "stderr",
     "output_type": "stream",
     "text": [
      "The cache for model files in Transformers v4.22.0 has been updated. Migrating your old cache. This is a one-time only operation. You can interrupt this and resume the migration later on by calling `transformers.utils.move_cache()`.\n"
     ]
    },
    {
     "name": "stdout",
     "output_type": "stream",
     "text": [
      "Moving 0 files to the new cache system\n"
     ]
    },
    {
     "data": {
      "application/vnd.jupyter.widget-view+json": {
       "model_id": "ec2740218e6643719a75358247da4114",
       "version_major": 2,
       "version_minor": 0
      },
      "text/plain": [
       "0it [00:00, ?it/s]"
      ]
     },
     "metadata": {},
     "output_type": "display_data"
    }
   ],
   "source": [
    "import csv # Allows us to read and write csv files\n",
    "from pprint import pprint # Make our print functions easier to read\n",
    "\n",
    "from transformers import pipeline # Hugging face pipeline to load online models"
   ]
  },
  {
   "cell_type": "markdown",
   "id": "62d4028f",
   "metadata": {},
   "source": [
    "🤗 Transformers provides thousands of pretrained models to perform tasks on different modalities such as text, vision, and audio.\n",
    "\n",
    "These models can be applied on:\n",
    "- 📝 Text, for tasks like text classification, information extraction, question answering, summarization, translation, text generation, in over 100 languages.\n",
    "\n",
    "- 🖼️ Images, for tasks like image classification, object detection, and segmentation.\n",
    "- 🗣️ Audio, for tasks like speech recognition and audio classification.\n",
    "\n",
    "This is the pipeline method in transformers that we'll be using to analyze our sentiment data. Since we're not specifying a pretrained model, the pipeline has a default sentiment analysis model called [distilbert-base-uncased-finetuned-sst-2-english](https://huggingface.co/distilbert-base-uncased-finetuned-sst-2-english)."
   ]
  },
  {
   "cell_type": "code",
   "execution_count": 2,
   "id": "9c3e6e41",
   "metadata": {},
   "outputs": [
    {
     "name": "stderr",
     "output_type": "stream",
     "text": [
      "No model was supplied, defaulted to distilbert-base-uncased-finetuned-sst-2-english and revision af0f99b (https://huggingface.co/distilbert-base-uncased-finetuned-sst-2-english).\n",
      "Using a pipeline without specifying a model name and revision in production is not recommended.\n"
     ]
    },
    {
     "data": {
      "application/vnd.jupyter.widget-view+json": {
       "model_id": "1abd08ee04dd4cc5a59f2547243f53b5",
       "version_major": 2,
       "version_minor": 0
      },
      "text/plain": [
       "Downloading:   0%|          | 0.00/629 [00:00<?, ?B/s]"
      ]
     },
     "metadata": {},
     "output_type": "display_data"
    },
    {
     "data": {
      "application/vnd.jupyter.widget-view+json": {
       "model_id": "b6548572d0fd4c058e5104fd9ce1b278",
       "version_major": 2,
       "version_minor": 0
      },
      "text/plain": [
       "Downloading:   0%|          | 0.00/268M [00:00<?, ?B/s]"
      ]
     },
     "metadata": {},
     "output_type": "display_data"
    },
    {
     "data": {
      "application/vnd.jupyter.widget-view+json": {
       "model_id": "65788af849994f739243178deb665d1f",
       "version_major": 2,
       "version_minor": 0
      },
      "text/plain": [
       "Downloading:   0%|          | 0.00/48.0 [00:00<?, ?B/s]"
      ]
     },
     "metadata": {},
     "output_type": "display_data"
    },
    {
     "data": {
      "application/vnd.jupyter.widget-view+json": {
       "model_id": "7487c78192ab42e49c706aeecb5c0513",
       "version_major": 2,
       "version_minor": 0
      },
      "text/plain": [
       "Downloading:   0%|          | 0.00/232k [00:00<?, ?B/s]"
      ]
     },
     "metadata": {},
     "output_type": "display_data"
    }
   ],
   "source": [
    "sentiment_pipeline = pipeline(\"sentiment-analysis\")"
   ]
  },
  {
   "cell_type": "markdown",
   "id": "e30b34b2",
   "metadata": {},
   "source": [
    "In this example, we'll supply two polar sentiments and test out the model pipeline."
   ]
  },
  {
   "cell_type": "code",
   "execution_count": 3,
   "id": "de41c494",
   "metadata": {},
   "outputs": [
    {
     "data": {
      "text/plain": [
       "[{'label': 'POSITIVE', 'score': 0.9998694658279419},\n",
       " {'label': 'NEGATIVE', 'score': 0.994263231754303}]"
      ]
     },
     "execution_count": 3,
     "metadata": {},
     "output_type": "execute_result"
    }
   ],
   "source": [
    "data = [\"This is great!\", \"Oh no!\"]\n",
    "sentiment_pipeline(data)"
   ]
  },
  {
   "cell_type": "markdown",
   "id": "39d04139",
   "metadata": {},
   "source": [
    "The `label` in this case indicates the prediction for the sentiment type.\n",
    "\n",
    "The `score` indicates the confidence of the prediction (between 0 and 1).\n",
    "\n",
    "Since our sentiments were very polar, it was easier for the model to predict the sentiment type.\n",
    "\n",
    "Let's see what happens when we use a less clear example:"
   ]
  },
  {
   "cell_type": "code",
   "execution_count": 4,
   "id": "c077f881",
   "metadata": {},
   "outputs": [
    {
     "data": {
      "text/plain": [
       "[{'label': 'NEGATIVE', 'score': 0.9955561757087708},\n",
       " {'label': 'NEGATIVE', 'score': 0.9860844016075134}]"
      ]
     },
     "execution_count": 4,
     "metadata": {},
     "output_type": "execute_result"
    }
   ],
   "source": [
    "challenging_sentiments = [\"I don't think freddriq should leave, he's been helpful.\",\n",
    "                          \"Is that the lake we went to last month?\"]\n",
    "sentiment_pipeline(challenging_sentiments)"
   ]
  },
  {
   "cell_type": "markdown",
   "id": "c64b62d4",
   "metadata": {},
   "source": [
    "<hr>\n",
    "\n",
    "### Loading the Twitter Data\n",
    "\n",
    "Let's play with some twitter data. We'll be using a modified version of the [Elon Musk twitter dataset on Kaggle](https://www.kaggle.com/datasets/andradaolteanu/all-elon-musks-tweets)."
   ]
  },
  {
   "cell_type": "code",
   "execution_count": 5,
   "id": "4c1a44d0",
   "metadata": {},
   "outputs": [
    {
     "name": "stdout",
     "output_type": "stream",
     "text": [
      "['@vincent13031925 For now. Costs are decreasing rapidly.',\n",
      " 'Love this beautiful shot',\n",
      " '@agnostoxxx @CathieDWood @ARKInvest Trust the shrub',\n",
      " 'The art In Cyberpunk is incredible',\n",
      " '@itsALLrisky 🤣🤣',\n",
      " '@seinfeldguru @WholeMarsBlog Nope haha',\n",
      " '@WholeMarsBlog If you don’t say anything &amp; engage Autopilot, it will '\n",
      " 'soon guess based on time of day, taking you home or to work or to what’s on '\n",
      " 'your calendar',\n",
      " '@DeltavPhotos @PortCanaveral That rocket is a hardcore veteran of many '\n",
      " 'missions',\n",
      " 'Blimps rock  https://t.co/e8cu5FkNOI',\n",
      " '@engineers_feed Due to lower gravity, you can travel from surface of Mars to '\n",
      " 'surface of Earth fairly easily with a single stage rocket. Earth to Mars is '\n",
      " 'vastly harder.',\n",
      " '@DrPhiltill Good thread',\n",
      " '@alexellisuk Pretty much',\n",
      " '@tesla_adri @WholeMarsBlog These things are best thought of as '\n",
      " 'probabilities. There are 5 forward-facing cameras. It is highly likely that '\n",
      " 'at least one of them will see multiple cars ahead.',\n",
      " '@WholeMarsBlog Sensors are a bitstream and cameras have several orders of '\n",
      " 'magnitude more bits/sec than radar (or lidar).   Radar must meaningfully '\n",
      " 'increase signal/noise of bitstream to be worth complexity of integrating '\n",
      " 'it.   As vision processing gets better, it just leaves radar far behind.',\n",
      " '@WholeMarsBlog When radar and vision disagree, which one do you believe? '\n",
      " 'Vision has much more precision, so better to double down on vision than do '\n",
      " 'sensor fusion.',\n",
      " '@WholeMarsBlog This is a major problem!',\n",
      " 'Just needs some legs',\n",
      " 'The Starship launch tower that catches the giant rocket booster is basically '\n",
      " 'Mechazilla',\n",
      " 'But wait how is the core of the earth lit by the sun? Stop asking '\n",
      " 'questions!!',\n",
      " 'Kong vs Godzilla has record for most meth ever consumed in a writer’s room',\n",
      " '@itsALLrisky 💯',\n",
      " '… going to moon very soon',\n",
      " '@Matsu_Kusarine @jagarikin Actually happened to me in Cyberpunk haha',\n",
      " '@TimBirks1 @Erdayastronaut @SpaceX Pretty much',\n",
      " '@memescryptor !',\n",
      " 'Where is Shrek 5!?  https://t.co/PqAZ5Mg8Es',\n",
      " '@AustinTeslaClub @OwenSparks_ @WholeMarsBlog Good point.   Next major '\n",
      " 'software rev will do much better with automating wipers, seat heating &amp; '\n",
      " 'defrost.   Probable seat settings just based on occupant mass distribution '\n",
      " 'should be possible.',\n",
      " '@Adamklotz_ @OwenSparks_ @WholeMarsBlog Yup',\n",
      " '@teslaownersSV @neuralink Turns out 🐒 love video games &amp; snacks just '\n",
      " 'like us!',\n",
      " 'It’s all about the cufflinks  https://t.co/elccqC0Zuf',\n",
      " '@chicago_glenn I feel like this sometimes',\n",
      " '@OwenSparks_ @WholeMarsBlog It will',\n",
      " '@OwenSparks_ @WholeMarsBlog Remove',\n",
      " '@w00ki33 @SpaceX @SuperclusterHQ Simulation is improving rendering '\n",
      " 'resolution  …',\n",
      " '@cleantechnica Congrats to NIO. That is a tough milestone.',\n",
      " '@WholeMarsBlog Almost ready with FSD Beta V9.0. Step change improvement is '\n",
      " 'massive, especially for weird corner cases &amp; bad weather. Pure vision, '\n",
      " 'no radar.',\n",
      " 'Thanks to all that helped SpaceX!',\n",
      " 'Just read it. Book is accurate.',\n",
      " '@TeslaGong Yeah',\n",
      " '@mikevanbus @TrungTPhan @neuralink Pretty much',\n",
      " ' https://t.co/XeQursZpvq',\n",
      " 'Soon our monkey will be on twitch &amp; discord haha',\n",
      " '@thenewsoncnbc @contessabrewer Good piece!',\n",
      " '@Kyler_Knoll @neuralink Comes with wireless charging baseball cap',\n",
      " '@TarekWaked @TechCrunch @etherington Pretty much 🤣🤣 Great episode!',\n",
      " 'A monkey is literally playing a video game telepathically using a brain '\n",
      " 'chip!!',\n",
      " '@lexfridman @neuralink Yes',\n",
      " 'The device is implanted flush with skull &amp; charges wirelessly, so you '\n",
      " 'look &amp; feel totally normal',\n",
      " '@IheartTesla Absolutely doable. Possibly as soon as Neuralink device version '\n",
      " '2, highly likely by version 3.',\n",
      " 'Later versions will be able to shunt signals from Neuralinks in brain to '\n",
      " 'Neuralinks in body motor/sensory neuron clusters, thus enabling, for '\n",
      " 'example, paraplegics to walk again',\n",
      " '@mindofkacper @neuralink Yes',\n",
      " 'First @Neuralink product will enable someone with paralysis to use a '\n",
      " 'smartphone with their mind faster than someone using thumbs',\n",
      " '@IheartTesla @neuralink Hopefully, later this year',\n",
      " '@tobyliiiiiiiiii Sure',\n",
      " 'Monkey plays Pong with his mind',\n",
      " '@dogeofficialceo @WatchersTank @SpaceX Looking at pups soon!',\n",
      " '@jordanxmajel @WatchersTank @SpaceX Shock absorption is built into tower '\n",
      " 'arms. Since tower is ground side, it can use a lot more mass to arrest '\n",
      " 'booster downward momentum.',\n",
      " '@jordanxmajel @WatchersTank @SpaceX Load points just below the grid fins',\n",
      " '@WatchersTank @SpaceX Just one skyscraper catching another nbd haha',\n",
      " 'Thanks Tesla suppliers for providing us with critical parts!',\n",
      " '@MarkJam93765764 @IvanEscobosa A tidal wave of vaccine is being produced!',\n",
      " '@jgrano305 Probably J&amp;J, but BioNtech &amp; Moderna are good too. Some '\n",
      " 'debate imo as to whether a second synthetic mRNA shot is really needed, but '\n",
      " 'the first is a no-brainer.',\n",
      " '@IvanEscobosa Latter',\n",
      " 'To be clear, I do support vaccines in general &amp; covid vaccines '\n",
      " 'specifically. The science is unequivocal.   In very rare cases, there is an '\n",
      " 'allergic reaction, but this is easily addressed with an EpiPen.',\n",
      " '@DavidWillisSLS @_Jevis_ @PPathole Needs legs for moon &amp; Mars',\n",
      " '@SciGuySpace Global payload to orbit is the key metric',\n",
      " '@Julius_Burton @Erdayastronaut @DJSnM @NASASpaceflight @ChrisG_NSF '\n",
      " '@thejackbeyer @FelixSchlang Nice',\n",
      " '@_Jevis_ @PPathole Ideal scenario imo is catching Starship in horizontal '\n",
      " '“glide” with no landing burn, although that is quite a challenge for the '\n",
      " 'tower! Next best is catching with tower, with emergency pad landing mode on '\n",
      " 'skirt (no legs).',\n",
      " '@PPathole Starship booster, largest flying object ever designed, will be '\n",
      " 'caught out of sky by launch tower. Big step forward, as reflight can be done '\n",
      " 'in under an hour.',\n",
      " '@WholeMarsBlog Well-written and fair, much like his articles on space',\n",
      " '@louisssdev @flcnhvy Coming soon. Crazy number of launches this year!',\n",
      " '@flcnhvy They will be recovered from the water &amp; reused',\n",
      " '“Tanks for the memery!” – Panzer of the Lake',\n",
      " '@CathieDWood @wintonARK @ARKInvest What do you think of the unusually high '\n",
      " 'ratio of S&amp;P market cap to GDP?',\n",
      " '@ID_AA_Carmack Some kind of ELO level, updated once or twice a year based on '\n",
      " 'what someone actually got done, might be most effective. Important that it '\n",
      " 'go both up *and* down.',\n",
      " '@Thomas38697956 New &amp; improved version!',\n",
      " '@Teslarati @ResidentSponge Special mention of Tesla China',\n",
      " '@shbzz Obv',\n",
      " '@Teslarati @ResidentSponge Great work by Tesla team!',\n",
      " '@EvaFoxU Nice',\n",
      " 'The Earth is not flat, it’s a hollow globe &amp; Donkey King lives there!',\n",
      " '@EvaFoxU Those two really could have come in handy for the stuck ship!',\n",
      " '@EvaFoxU Last Kingdom vs Vikings',\n",
      " '@spacex360 Ascent phase, transition to horizontal &amp; control during free '\n",
      " 'fall were good.   A (relatively) small CH4 leak led to fire on engine 2 '\n",
      " '&amp; fried part of avionics, causing hard start attempting landing burn in '\n",
      " 'CH4 turbopump.   This is getting fixed 6 ways to Sunday.',\n",
      " 'Godzilla vs Kong is so amaze much wow! Most insane movie I’ve ever seen! '\n",
      " 'Love letter to conspiracy theorists! And yet heartwarming in the end.',\n",
      " '@TerminalCount The Starships feast in Valhalla!',\n",
      " '@TerminalCount One of the greatest things I’ve ever seen',\n",
      " '@floko12022021 @HamblinZeke @katlinegrey Ich habe ein Semester Deutsch an '\n",
      " 'der Universität studiert usw',\n",
      " '@HamblinZeke @katlinegrey Haha Falcon? Nein!',\n",
      " '@tobyliiiiiiiiii @katlinegrey I recommend propulsive landing, as that is '\n",
      " 'extensible to planets, moons &amp; asteroids. Wings &amp; runways are '\n",
      " 'limited to Earth.',\n",
      " '@PPathole @katlinegrey For practical purposes, there is no limit. It will '\n",
      " 'just get increasingly difficult to service.',\n",
      " '@katlinegrey This a good path, but I recommend aiming for full reusability',\n",
      " 'Urgent need to build more housing in greater Austin area!',\n",
      " 'Austin++',\n",
      " 'No it doesn’t hurt at all 🩸  https://t.co/NnL6o1si0V',\n",
      " '@allrocketsboi True',\n",
      " '@GerberKawasaki I fried a lot of neurons on that problem!',\n",
      " 'Me in my sick new car (left him the money)  https://t.co/EGaY1FVfHm',\n",
      " '@TrungTPhan Had no money to invest in Zip2, but my founder equity yielded '\n",
      " '~$15M after tax. Of that, I rolled ~$10M into PayPal, which yielded ~$180M, '\n",
      " 'then …   Basic principle is that I would not ask investors to risk money on '\n",
      " 'my company if I would not also do so.',\n",
      " '@Gfilche Major new Supercharger station coming to Santa Monica soon! Hoping '\n",
      " 'to have 50’s diner &amp; 100 best movie clips playing too. Thanks Santa '\n",
      " 'Monica city!']\n"
     ]
    }
   ],
   "source": [
    "with open('../data/elonmusk_tweets.csv', newline='', encoding='utf8') as f:\n",
    "    tweets=[]\n",
    "    reader = csv.reader(f)\n",
    "    twitter_data = list(reader)\n",
    "    for tweet in twitter_data:\n",
    "        tweets.append(tweet[0])\n",
    "\n",
    "pprint(tweets[:100])"
   ]
  },
  {
   "cell_type": "markdown",
   "id": "e630a8f1",
   "metadata": {},
   "source": [
    "First things first - let's look at the sentiment as determined by the [distilbert-base-uncased-finetuned-sst-2-english](https://huggingface.co/distilbert-base-uncased-finetuned-sst-2-english) (default model) in the pipeline."
   ]
  },
  {
   "cell_type": "code",
   "execution_count": 19,
   "id": "42b10279",
   "metadata": {},
   "outputs": [],
   "source": [
    "distil_sentiment = sentiment_pipeline(tweets[0:100])\n",
    "# distil_sentiment = sentiment_pipeline(sel)"
   ]
  },
  {
   "cell_type": "markdown",
   "id": "8ce3fefd",
   "metadata": {},
   "source": [
    "Let's check out the distribution of positive/negative Tweets and see the breakdown using Python's 🐍 standard library `collections.Counter`!"
   ]
  },
  {
   "cell_type": "code",
   "execution_count": 20,
   "id": "971a841d",
   "metadata": {},
   "outputs": [
    {
     "name": "stdout",
     "output_type": "stream",
     "text": [
      "49 (49.00%) of the tweets classified are positive.\n",
      "51 (51.00%) of the tweets classified are negative.\n"
     ]
    }
   ],
   "source": [
    "from collections import Counter\n",
    "\n",
    "tweet_distro = Counter([x['label'] for x in distil_sentiment])\n",
    "pos_sent_count = tweet_distro['POSITIVE']\n",
    "neg_sent_count = tweet_distro['NEGATIVE']\n",
    "total_sent_count = sum(tweet_distro.values())\n",
    "\n",
    "print(f\"{pos_sent_count} ({pos_sent_count / total_sent_count * 100:.2f}%) of the tweets classified are positive.\")\n",
    "print(f\"{neg_sent_count} ({neg_sent_count / total_sent_count * 100:.2f}%) of the tweets classified are negative.\")"
   ]
  },
  {
   "cell_type": "markdown",
   "id": "42155a0c",
   "metadata": {},
   "source": [
    "Let's do that process again, but use a model with an additional potential label \"NEUTRAL\" called [bertweet-sentiment-analysis](https://huggingface.co/finiteautomata/bertweet-base-sentiment-analysis)\n",
    "\n",
    "To start - we'll build a pipeline with the new model by using the 🤗 Hugging Face address: `finiteautomata/bertweet-base-sentiment-analysis`"
   ]
  },
  {
   "cell_type": "code",
   "execution_count": 21,
   "id": "3fd6e37f",
   "metadata": {},
   "outputs": [
    {
     "data": {
      "application/vnd.jupyter.widget-view+json": {
       "model_id": "51128032ca0a4bb0abd39af884ebea4c",
       "version_major": 2,
       "version_minor": 0
      },
      "text/plain": [
       "Downloading:   0%|          | 0.00/1.42k [00:00<?, ?B/s]"
      ]
     },
     "metadata": {},
     "output_type": "display_data"
    }
   ],
   "source": [
    "bertweet_pipeline = pipeline(model=\"finiteautomata/bertweet-base-sentiment-analysis\")"
   ]
  },
  {
   "cell_type": "markdown",
   "id": "7025127d",
   "metadata": {},
   "source": [
    "Next, and the same as before, let's run the analysis on 100 of Elon's tweets."
   ]
  },
  {
   "cell_type": "code",
   "execution_count": 22,
   "id": "5daa650d",
   "metadata": {},
   "outputs": [],
   "source": [
    "bert_sentiment = bertweet_pipeline(tweets[0:100])"
   ]
  },
  {
   "cell_type": "markdown",
   "id": "6d8a316d",
   "metadata": {},
   "source": [
    "And then, let's check out the breakdown of positive, negative, AND neutral sentiments!"
   ]
  },
  {
   "cell_type": "code",
   "execution_count": 23,
   "id": "6996cc58",
   "metadata": {},
   "outputs": [
    {
     "name": "stdout",
     "output_type": "stream",
     "text": [
      "29 (29.00%) of the tweets classified are positive.\n",
      "64 (64.00%) of the tweets classified are neutral.\n",
      "7 (7.00%) of the tweets classified are negative.\n"
     ]
    }
   ],
   "source": [
    "from collections import Counter\n",
    "\n",
    "tweet_distro = Counter([x['label'] for x in bert_sentiment])\n",
    "pos_sent_count = tweet_distro['POS']\n",
    "neu_sent_count = tweet_distro['NEU']\n",
    "neg_sent_count = tweet_distro['NEG']\n",
    "total_sent_count = sum(tweet_distro.values())\n",
    "\n",
    "print(f\"{pos_sent_count} ({pos_sent_count / total_sent_count * 100:.2f}%) of the tweets classified are positive.\")\n",
    "print(f\"{neu_sent_count} ({neu_sent_count / total_sent_count * 100:.2f}%) of the tweets classified are neutral.\")\n",
    "print(f\"{neg_sent_count} ({neg_sent_count / total_sent_count * 100:.2f}%) of the tweets classified are negative.\")"
   ]
  },
  {
   "cell_type": "markdown",
   "id": "8185798d",
   "metadata": {},
   "source": [
    "❓ What do you notice about the difference in the results? \n",
    "\n",
    "❓ Do the results for the `bertweet-base` model look better, or worse, than the results for the `distilbert-base` model? Why?"
   ]
  },
  {
   "cell_type": "markdown",
   "id": "6684f9ae",
   "metadata": {},
   "source": [
    "<hr>\n",
    "\n",
    "### Partner Exercise\n",
    "\n",
    "With your partner, try and determine what the following tweets might be classified as. Try to classify them into the same groups as both of the model pipelines we saw today - and try adding a few of your own sentences/Tweets! "
   ]
  },
  {
   "cell_type": "code",
   "execution_count": 39,
   "id": "dcc55db9",
   "metadata": {},
   "outputs": [],
   "source": [
    "# example_difficult_tweets = [\n",
    "#     \"Kong vs Godzilla has record for most meth ever consumed in a writer's room\",\n",
    "#     \"@ashleevance Battery energy density is the key to electric aircraft. Autonomy for aircraft could have been done a long time ago. Modern airliners are very close to autonomous.\",\n",
    "#     \"Tesla's action is not directly reflective of my opinion. Having some Bitcoin, which is simply a less dumb form of liquidity than cash, is adventurous enough for an S&P500 company.\",\n",
    "#     \"why in the world there is the evil\",\n",
    "#     \"the rainbow is above the sky in ukraine during the war with russia\",\n",
    "# ]"
   ]
  },
  {
   "cell_type": "code",
   "execution_count": 40,
   "id": "277e216d-c403-4bbe-9dc9-43c98f2f1c82",
   "metadata": {},
   "outputs": [],
   "source": [
    "example_difficult_tweets = \"Kong vs Godzilla has record for most meth ever consumed in a writer's room\""
   ]
  },
  {
   "cell_type": "code",
   "execution_count": 47,
   "id": "59a701ea-a6c7-4c34-b78f-87192d586850",
   "metadata": {},
   "outputs": [
    {
     "data": {
      "text/plain": [
       "0.5429086089134216"
      ]
     },
     "execution_count": 47,
     "metadata": {},
     "output_type": "execute_result"
    }
   ],
   "source": [
    "sentiment_pipeline(example_difficult_tweets)[0]['score']"
   ]
  },
  {
   "cell_type": "markdown",
   "id": "324e3837",
   "metadata": {},
   "source": [
    "The `distilbert-base` model:"
   ]
  },
  {
   "cell_type": "code",
   "execution_count": 26,
   "id": "3fd3d5a9",
   "metadata": {},
   "outputs": [
    {
     "name": "stdout",
     "output_type": "stream",
     "text": [
      "[{'label': 'POSITIVE', 'score': 0.5429086089134216}]\n",
      "Kong vs Godzilla has record for most meth ever consumed in a writer's room\n",
      "\n",
      "[{'label': 'NEGATIVE', 'score': 0.6348389983177185}]\n",
      "@ashleevance Battery energy density is the key to electric aircraft. Autonomy for aircraft could have been done a long time ago. Modern airliners are very close to autonomous.\n",
      "\n",
      "[{'label': 'POSITIVE', 'score': 0.9419689178466797}]\n",
      "Tesla's action is not directly reflective of my opinion. Having some Bitcoin, which is simply a less dumb form of liquidity than cash, is adventurous enough for an S&P500 company.\n",
      "\n",
      "[{'label': 'NEGATIVE', 'score': 0.9898028373718262}]\n",
      "why in the world there is the evil\n",
      "\n",
      "[{'label': 'POSITIVE', 'score': 0.9989979863166809}]\n",
      "the rainbow is above the sky in ukraine during the war with russia\n",
      "\n"
     ]
    }
   ],
   "source": [
    "for tweet in example_difficult_tweets[0:1000]:\n",
    "    pprint(sentiment_pipeline(tweet))\n",
    "    print(tweet + '\\n')"
   ]
  },
  {
   "cell_type": "markdown",
   "id": "61230295",
   "metadata": {},
   "source": [
    "The `bertweet-base` model:"
   ]
  },
  {
   "cell_type": "code",
   "execution_count": 27,
   "id": "82f2d3e2",
   "metadata": {},
   "outputs": [
    {
     "name": "stdout",
     "output_type": "stream",
     "text": [
      "[{'label': 'NEG', 'score': 0.7213016152381897}]\n",
      "Kong vs Godzilla has record for most meth ever consumed in a writer's room\n",
      "\n",
      "[{'label': 'NEU', 'score': 0.8023845553398132}]\n",
      "@ashleevance Battery energy density is the key to electric aircraft. Autonomy for aircraft could have been done a long time ago. Modern airliners are very close to autonomous.\n",
      "\n",
      "[{'label': 'NEU', 'score': 0.8843538165092468}]\n",
      "Tesla's action is not directly reflective of my opinion. Having some Bitcoin, which is simply a less dumb form of liquidity than cash, is adventurous enough for an S&P500 company.\n",
      "\n",
      "[{'label': 'NEG', 'score': 0.9732426404953003}]\n",
      "why in the world there is the evil\n",
      "\n",
      "[{'label': 'NEU', 'score': 0.8584275245666504}]\n",
      "the rainbow is above the sky in ukraine during the war with russia\n",
      "\n"
     ]
    }
   ],
   "source": [
    "for tweet in example_difficult_tweets[0:1000]:\n",
    "    pprint(bertweet_pipeline(tweet))\n",
    "    print(tweet + '\\n')"
   ]
  },
  {
   "cell_type": "markdown",
   "id": "97f2c1c5",
   "metadata": {},
   "source": [
    "❓ How did you do? Did you find any surprising results? \n",
    "\n",
    "❓ Are there any instances where the two models gave different predictions for the same tweet?"
   ]
  },
  {
   "cell_type": "markdown",
   "id": "fee4b685-3ec7-418a-9d2a-0cbad9a3b880",
   "metadata": {},
   "source": [
    "# Daniele' Assignment"
   ]
  },
  {
   "cell_type": "code",
   "execution_count": 70,
   "id": "a0514c20-df5c-452a-98a4-a9e1beb60441",
   "metadata": {},
   "outputs": [],
   "source": [
    "import pandas as pd"
   ]
  },
  {
   "cell_type": "markdown",
   "id": "7b10de98-3f96-4783-9460-cc29903e57b6",
   "metadata": {},
   "source": [
    "Turn tweets into a dataframe"
   ]
  },
  {
   "cell_type": "code",
   "execution_count": 76,
   "id": "d7ddf50b-3088-4b0a-92d5-b5880026786a",
   "metadata": {},
   "outputs": [],
   "source": [
    "txt = pd.DataFrame(tweets,columns=['tweets'])"
   ]
  },
  {
   "cell_type": "markdown",
   "id": "ba8f0e4a-4347-4238-b3b1-418667748b25",
   "metadata": {},
   "source": [
    "Compute the score and label fro both model"
   ]
  },
  {
   "cell_type": "code",
   "execution_count": 78,
   "id": "7626c51b-7815-43e3-bc05-b10a000248f7",
   "metadata": {},
   "outputs": [],
   "source": [
    "txt['dist_label'] = txt['tweets'].apply(lambda x: sentiment_pipeline(x)[0]['label'])\n",
    "txt['dist_score'] = txt['tweets'].apply(lambda x: sentiment_pipeline(x)[0]['score'])"
   ]
  },
  {
   "cell_type": "code",
   "execution_count": 79,
   "id": "3b38f261-768a-4288-82d1-f8b90bdc31fd",
   "metadata": {},
   "outputs": [],
   "source": [
    "txt['ber_label'] = txt['tweets'].apply(lambda x: bertweet_pipeline(x)[0]['label'])\n",
    "txt['ber_score'] = txt['tweets'].apply(lambda x: bertweet_pipeline(x)[0]['score'])"
   ]
  },
  {
   "cell_type": "markdown",
   "id": "4dcc9a42-6f53-4bf3-a847-e3f9037f162d",
   "metadata": {},
   "source": [
    "Fast check"
   ]
  },
  {
   "cell_type": "code",
   "execution_count": 80,
   "id": "540611a4-6387-4959-abfc-a4b216b16baf",
   "metadata": {},
   "outputs": [
    {
     "data": {
      "text/html": [
       "<div>\n",
       "<style scoped>\n",
       "    .dataframe tbody tr th:only-of-type {\n",
       "        vertical-align: middle;\n",
       "    }\n",
       "\n",
       "    .dataframe tbody tr th {\n",
       "        vertical-align: top;\n",
       "    }\n",
       "\n",
       "    .dataframe thead th {\n",
       "        text-align: right;\n",
       "    }\n",
       "</style>\n",
       "<table border=\"1\" class=\"dataframe\">\n",
       "  <thead>\n",
       "    <tr style=\"text-align: right;\">\n",
       "      <th></th>\n",
       "      <th>tweets</th>\n",
       "      <th>dist_label</th>\n",
       "      <th>dist_score</th>\n",
       "      <th>ber_label</th>\n",
       "      <th>ber_score</th>\n",
       "    </tr>\n",
       "  </thead>\n",
       "  <tbody>\n",
       "    <tr>\n",
       "      <th>0</th>\n",
       "      <td>@vincent13031925 For now. Costs are decreasing...</td>\n",
       "      <td>NEGATIVE</td>\n",
       "      <td>0.996366</td>\n",
       "      <td>NEU</td>\n",
       "      <td>0.952393</td>\n",
       "    </tr>\n",
       "    <tr>\n",
       "      <th>1</th>\n",
       "      <td>Love this beautiful shot</td>\n",
       "      <td>POSITIVE</td>\n",
       "      <td>0.999882</td>\n",
       "      <td>POS</td>\n",
       "      <td>0.990994</td>\n",
       "    </tr>\n",
       "    <tr>\n",
       "      <th>2</th>\n",
       "      <td>@agnostoxxx @CathieDWood @ARKInvest Trust the ...</td>\n",
       "      <td>NEGATIVE</td>\n",
       "      <td>0.849832</td>\n",
       "      <td>NEU</td>\n",
       "      <td>0.973386</td>\n",
       "    </tr>\n",
       "    <tr>\n",
       "      <th>3</th>\n",
       "      <td>The art In Cyberpunk is incredible</td>\n",
       "      <td>POSITIVE</td>\n",
       "      <td>0.999886</td>\n",
       "      <td>POS</td>\n",
       "      <td>0.982427</td>\n",
       "    </tr>\n",
       "    <tr>\n",
       "      <th>4</th>\n",
       "      <td>@itsALLrisky 🤣🤣</td>\n",
       "      <td>NEGATIVE</td>\n",
       "      <td>0.983950</td>\n",
       "      <td>NEG</td>\n",
       "      <td>0.962732</td>\n",
       "    </tr>\n",
       "    <tr>\n",
       "      <th>5</th>\n",
       "      <td>@seinfeldguru @WholeMarsBlog Nope haha</td>\n",
       "      <td>NEGATIVE</td>\n",
       "      <td>0.993329</td>\n",
       "      <td>NEU</td>\n",
       "      <td>0.865781</td>\n",
       "    </tr>\n",
       "    <tr>\n",
       "      <th>6</th>\n",
       "      <td>@WholeMarsBlog If you don’t say anything &amp;amp;...</td>\n",
       "      <td>NEGATIVE</td>\n",
       "      <td>0.991768</td>\n",
       "      <td>NEU</td>\n",
       "      <td>0.926353</td>\n",
       "    </tr>\n",
       "  </tbody>\n",
       "</table>\n",
       "</div>"
      ],
      "text/plain": [
       "                                              tweets dist_label  dist_score  \\\n",
       "0  @vincent13031925 For now. Costs are decreasing...   NEGATIVE    0.996366   \n",
       "1                           Love this beautiful shot   POSITIVE    0.999882   \n",
       "2  @agnostoxxx @CathieDWood @ARKInvest Trust the ...   NEGATIVE    0.849832   \n",
       "3                 The art In Cyberpunk is incredible   POSITIVE    0.999886   \n",
       "4                                    @itsALLrisky 🤣🤣   NEGATIVE    0.983950   \n",
       "5             @seinfeldguru @WholeMarsBlog Nope haha   NEGATIVE    0.993329   \n",
       "6  @WholeMarsBlog If you don’t say anything &amp;...   NEGATIVE    0.991768   \n",
       "\n",
       "  ber_label  ber_score  \n",
       "0       NEU   0.952393  \n",
       "1       POS   0.990994  \n",
       "2       NEU   0.973386  \n",
       "3       POS   0.982427  \n",
       "4       NEG   0.962732  \n",
       "5       NEU   0.865781  \n",
       "6       NEU   0.926353  "
      ]
     },
     "execution_count": 80,
     "metadata": {},
     "output_type": "execute_result"
    }
   ],
   "source": [
    "txt.head(7)"
   ]
  },
  {
   "cell_type": "markdown",
   "id": "99d27100-b1bd-4d85-8a31-863d030f376b",
   "metadata": {},
   "source": [
    "Add new features \"delta\", computed from absolute difference between the two scores"
   ]
  },
  {
   "cell_type": "code",
   "execution_count": 134,
   "id": "a3fd7fb0-22f8-4c45-b9d8-0ef40e5cd5c4",
   "metadata": {},
   "outputs": [],
   "source": [
    "txt['delta'] = abs(txt['ber_score'] - txt['dist_score'])"
   ]
  },
  {
   "cell_type": "markdown",
   "id": "6bda989a-c703-4343-aae0-ea20301c06b7",
   "metadata": {},
   "source": [
    "Export"
   ]
  },
  {
   "cell_type": "code",
   "execution_count": 82,
   "id": "44688bcf-5b67-46a8-bd92-e85ac0b484a0",
   "metadata": {},
   "outputs": [],
   "source": [
    "txt.to_pickle('txt.pkl')"
   ]
  },
  {
   "cell_type": "markdown",
   "id": "9c346e90-ea70-4953-b6be-585fb8061453",
   "metadata": {},
   "source": [
    "Let's have a look at the distribution of both score"
   ]
  },
  {
   "cell_type": "code",
   "execution_count": 83,
   "id": "e9c0a1a0-88bc-403f-9658-63728f0792e5",
   "metadata": {},
   "outputs": [
    {
     "data": {
      "text/plain": [
       "<AxesSubplot:>"
      ]
     },
     "execution_count": 83,
     "metadata": {},
     "output_type": "execute_result"
    },
    {
     "data": {
      "image/png": "[encoded data removed]",
      "text/plain": [
       "<Figure size 432x288 with 1 Axes>"
      ]
     },
     "metadata": {
      "needs_background": "light"
     },
     "output_type": "display_data"
    }
   ],
   "source": [
    "txt['dist_score'].hist()"
   ]
  },
  {
   "cell_type": "code",
   "execution_count": 84,
   "id": "08b273ee-418e-4c5b-990d-e486d8b14c06",
   "metadata": {},
   "outputs": [
    {
     "data": {
      "text/plain": [
       "<AxesSubplot:>"
      ]
     },
     "execution_count": 84,
     "metadata": {},
     "output_type": "execute_result"
    },
    {
     "data": {
      "image/png": "[encoded data removed]",
      "text/plain": [
       "<Figure size 432x288 with 1 Axes>"
      ]
     },
     "metadata": {
      "needs_background": "light"
     },
     "output_type": "display_data"
    }
   ],
   "source": [
    "txt['ber_score'].hist()"
   ]
  },
  {
   "cell_type": "markdown",
   "id": "85877ede-64ff-490e-9ff1-614770201d2a",
   "metadata": {},
   "source": [
    "Let's do some data viz"
   ]
  },
  {
   "cell_type": "code",
   "execution_count": 126,
   "id": "a04fe4e3-ef7a-4270-9b82-7621ef65d5c0",
   "metadata": {},
   "outputs": [],
   "source": [
    "import matplotlib.pyplot as plt\n",
    "import seaborn as sns\n",
    "\n",
    "pd.set_option('display.max_colwidth', None)"
   ]
  },
  {
   "cell_type": "code",
   "execution_count": 101,
   "id": "b266b026-505f-46c4-ada5-6b02fd02227d",
   "metadata": {},
   "outputs": [
    {
     "data": {
      "text/plain": [
       "<seaborn.axisgrid.FacetGrid at 0x7f1a66fbf340>"
      ]
     },
     "execution_count": 101,
     "metadata": {},
     "output_type": "execute_result"
    },
    {
     "data": {
      "image/png": "[encoded data removed]",
      "text/plain": [
       "<Figure size 445.625x360 with 1 Axes>"
      ]
     },
     "metadata": {
      "needs_background": "light"
     },
     "output_type": "display_data"
    }
   ],
   "source": [
    "sns.displot(data = txt, x='dist_score',hue='dist_label',kind='kde')"
   ]
  },
  {
   "cell_type": "code",
   "execution_count": 102,
   "id": "1d4005f4-2a2d-44a4-b50c-634017353d61",
   "metadata": {},
   "outputs": [
    {
     "data": {
      "text/plain": [
       "<seaborn.axisgrid.FacetGrid at 0x7f1a6756d4f0>"
      ]
     },
     "execution_count": 102,
     "metadata": {},
     "output_type": "execute_result"
    },
    {
     "data": {
      "image/png": "[encoded data removed]",
      "text/plain": [
       "<Figure size 417.5x360 with 1 Axes>"
      ]
     },
     "metadata": {
      "needs_background": "light"
     },
     "output_type": "display_data"
    }
   ],
   "source": [
    "sns.displot(data = txt, x='ber_score',hue='ber_label',kind='kde')"
   ]
  },
  {
   "cell_type": "code",
   "execution_count": 106,
   "id": "f71f9c4a-3bc6-41bf-92bf-8b3d8a71679c",
   "metadata": {},
   "outputs": [
    {
     "data": {
      "text/plain": [
       "<AxesSubplot:xlabel='ber_label', ylabel='ber_score'>"
      ]
     },
     "execution_count": 106,
     "metadata": {},
     "output_type": "execute_result"
    },
    {
     "data": {
      "image/png": "[encoded data removed]",
      "text/plain": [
       "<Figure size 432x288 with 1 Axes>"
      ]
     },
     "metadata": {
      "needs_background": "light"
     },
     "output_type": "display_data"
    }
   ],
   "source": [
    "sns.violinplot(data = txt, y='ber_score',x='ber_label',kind='kde')"
   ]
  },
  {
   "cell_type": "code",
   "execution_count": 107,
   "id": "12a00e07-70ca-466f-9353-4a9a54321f4c",
   "metadata": {},
   "outputs": [
    {
     "data": {
      "text/plain": [
       "<AxesSubplot:xlabel='dist_label', ylabel='dist_score'>"
      ]
     },
     "execution_count": 107,
     "metadata": {},
     "output_type": "execute_result"
    },
    {
     "data": {
      "image/png": "[encoded data removed]",
      "text/plain": [
       "<Figure size 432x288 with 1 Axes>"
      ]
     },
     "metadata": {
      "needs_background": "light"
     },
     "output_type": "display_data"
    }
   ],
   "source": [
    "sns.violinplot(data = txt, y='dist_score',x='dist_label',kind='kde')"
   ]
  },
  {
   "cell_type": "markdown",
   "id": "85357d21-eb13-40f1-a8de-31eeb66e29a6",
   "metadata": {},
   "source": [
    "Let's see how the two models behave: how far are their predictions? Get the frequencies of one model given a given value of another"
   ]
  },
  {
   "cell_type": "code",
   "execution_count": 108,
   "id": "d6a76ae5-daac-47e4-a529-25f5f0024439",
   "metadata": {},
   "outputs": [
    {
     "data": {
      "text/plain": [
       "NEU    5240\n",
       "NEG    1327\n",
       "POS     626\n",
       "Name: ber_label, dtype: int64"
      ]
     },
     "execution_count": 108,
     "metadata": {},
     "output_type": "execute_result"
    }
   ],
   "source": [
    "txt[txt['dist_label']=='NEGATIVE']['ber_label'].value_counts()"
   ]
  },
  {
   "cell_type": "code",
   "execution_count": 109,
   "id": "e8a764e7-305c-41a0-894a-253ff82d60db",
   "metadata": {},
   "outputs": [
    {
     "data": {
      "text/plain": [
       "POS    2701\n",
       "NEU    2547\n",
       "NEG     121\n",
       "Name: ber_label, dtype: int64"
      ]
     },
     "execution_count": 109,
     "metadata": {},
     "output_type": "execute_result"
    }
   ],
   "source": [
    "txt[txt['dist_label']=='POSITIVE']['ber_label'].value_counts()"
   ]
  },
  {
   "cell_type": "code",
   "execution_count": 141,
   "id": "1c33b008-b7ab-4453-8222-809da4f55f36",
   "metadata": {},
   "outputs": [],
   "source": [
    "# sns.displot(data = txt[txt['ber_label']=='NEG'], x='dist_score',hue='dist_label',kind='kde')"
   ]
  },
  {
   "cell_type": "markdown",
   "id": "b21bfe7c-dfc1-46de-8b94-0ccee70e8225",
   "metadata": {},
   "source": [
    "Let's see how the models behave in the extreme tails: what are the tweets that one model is almost sure to be positive and another is almosto sure to be negative?"
   ]
  },
  {
   "cell_type": "code",
   "execution_count": 128,
   "id": "0bed15e2-ef5a-4c26-a46a-c917536d9536",
   "metadata": {},
   "outputs": [
    {
     "data": {
      "text/html": [
       "<div>\n",
       "<style scoped>\n",
       "    .dataframe tbody tr th:only-of-type {\n",
       "        vertical-align: middle;\n",
       "    }\n",
       "\n",
       "    .dataframe tbody tr th {\n",
       "        vertical-align: top;\n",
       "    }\n",
       "\n",
       "    .dataframe thead th {\n",
       "        text-align: right;\n",
       "    }\n",
       "</style>\n",
       "<table border=\"1\" class=\"dataframe\">\n",
       "  <thead>\n",
       "    <tr style=\"text-align: right;\">\n",
       "      <th></th>\n",
       "      <th>tweets</th>\n",
       "      <th>dist_label</th>\n",
       "      <th>dist_score</th>\n",
       "      <th>ber_label</th>\n",
       "      <th>ber_score</th>\n",
       "      <th>delta</th>\n",
       "    </tr>\n",
       "  </thead>\n",
       "  <tbody>\n",
       "    <tr>\n",
       "      <th>132</th>\n",
       "      <td>@summerlinARK We should be laughing our asses off if it’s so damn smart!</td>\n",
       "      <td>NEGATIVE</td>\n",
       "      <td>0.978670</td>\n",
       "      <td>POS</td>\n",
       "      <td>0.987561</td>\n",
       "      <td>0.008891</td>\n",
       "    </tr>\n",
       "    <tr>\n",
       "      <th>378</th>\n",
       "      <td>@TechAmazing @UniverCurious Tunnels!!</td>\n",
       "      <td>NEGATIVE</td>\n",
       "      <td>0.991728</td>\n",
       "      <td>POS</td>\n",
       "      <td>0.990944</td>\n",
       "      <td>0.000785</td>\n",
       "    </tr>\n",
       "    <tr>\n",
       "      <th>1218</th>\n",
       "      <td>@Nigel_Lockyer I could not be more excited about the new supercollider! That said, while it is considerably larger, I don’t think it necessarily requires all that much incremental engineering.</td>\n",
       "      <td>NEGATIVE</td>\n",
       "      <td>0.974094</td>\n",
       "      <td>POS</td>\n",
       "      <td>0.983020</td>\n",
       "      <td>0.008926</td>\n",
       "    </tr>\n",
       "    <tr>\n",
       "      <th>1916</th>\n",
       "      <td>@flcnhvy It will blow ur mind haha  https://t.co/LqnKEN5Kjn</td>\n",
       "      <td>NEGATIVE</td>\n",
       "      <td>0.978930</td>\n",
       "      <td>POS</td>\n",
       "      <td>0.972867</td>\n",
       "      <td>0.006063</td>\n",
       "    </tr>\n",
       "    <tr>\n",
       "      <th>2256</th>\n",
       "      <td>@EfficiencyLast @jaminwestby @teslaownersSV @jgrano305 @TeslaratiTeam @Teslarati Should do this automatically</td>\n",
       "      <td>NEGATIVE</td>\n",
       "      <td>0.592546</td>\n",
       "      <td>POS</td>\n",
       "      <td>0.597797</td>\n",
       "      <td>0.005250</td>\n",
       "    </tr>\n",
       "    <tr>\n",
       "      <th>3977</th>\n",
       "      <td>Chairs are underappreciated</td>\n",
       "      <td>NEGATIVE</td>\n",
       "      <td>0.981183</td>\n",
       "      <td>POS</td>\n",
       "      <td>0.983448</td>\n",
       "      <td>0.002265</td>\n",
       "    </tr>\n",
       "    <tr>\n",
       "      <th>4162</th>\n",
       "      <td>Almost three now. Boca team is crushing it! Starship has giant dome 🤣🤣  https://t.co/qTN2TU02pb</td>\n",
       "      <td>NEGATIVE</td>\n",
       "      <td>0.991221</td>\n",
       "      <td>POS</td>\n",
       "      <td>0.986549</td>\n",
       "      <td>0.004672</td>\n",
       "    </tr>\n",
       "    <tr>\n",
       "      <th>5541</th>\n",
       "      <td>@austinbarnard45 Exciting progress in Boca! Hopper almost ready to hover. Based on tonight’s test, looks like 600 Hz Raptor vibration problem is fixed.  https://t.co/9bLWOHG0sV</td>\n",
       "      <td>NEGATIVE</td>\n",
       "      <td>0.954492</td>\n",
       "      <td>POS</td>\n",
       "      <td>0.961964</td>\n",
       "      <td>0.007472</td>\n",
       "    </tr>\n",
       "    <tr>\n",
       "      <th>5554</th>\n",
       "      <td>Reason for top rating is that active steering &amp;amp; braking safety features of Tesla Autopilot are turned on no cost for all cars  https://t.co/HBKwAEbgc9</td>\n",
       "      <td>NEGATIVE</td>\n",
       "      <td>0.920904</td>\n",
       "      <td>POS</td>\n",
       "      <td>0.929154</td>\n",
       "      <td>0.008250</td>\n",
       "    </tr>\n",
       "    <tr>\n",
       "      <th>6145</th>\n",
       "      <td>@martinengwicht @msitver @FrankLuntz Anti-matter def wins on energy density 🤣🤣</td>\n",
       "      <td>NEGATIVE</td>\n",
       "      <td>0.876640</td>\n",
       "      <td>POS</td>\n",
       "      <td>0.877243</td>\n",
       "      <td>0.000603</td>\n",
       "    </tr>\n",
       "    <tr>\n",
       "      <th>6185</th>\n",
       "      <td>Bach is killing it on YouTube</td>\n",
       "      <td>NEGATIVE</td>\n",
       "      <td>0.999310</td>\n",
       "      <td>POS</td>\n",
       "      <td>0.990566</td>\n",
       "      <td>0.008744</td>\n",
       "    </tr>\n",
       "    <tr>\n",
       "      <th>6455</th>\n",
       "      <td>@nextspaceflight @Erdayastronaut @DiscoverMag Yes. Sensitive propulsion &amp;amp; avionics remained dry. Great work by SpaceX Dragon engineering team. Major improvement over Dragon 1.</td>\n",
       "      <td>NEGATIVE</td>\n",
       "      <td>0.974400</td>\n",
       "      <td>POS</td>\n",
       "      <td>0.974273</td>\n",
       "      <td>0.000127</td>\n",
       "    </tr>\n",
       "    <tr>\n",
       "      <th>7058</th>\n",
       "      <td>@IanReyTamayo Haha</td>\n",
       "      <td>NEGATIVE</td>\n",
       "      <td>0.507522</td>\n",
       "      <td>POS</td>\n",
       "      <td>0.506620</td>\n",
       "      <td>0.000901</td>\n",
       "    </tr>\n",
       "    <tr>\n",
       "      <th>7211</th>\n",
       "      <td>💕🍜 ramen is sooo good🍜 💕</td>\n",
       "      <td>NEGATIVE</td>\n",
       "      <td>0.987336</td>\n",
       "      <td>POS</td>\n",
       "      <td>0.992047</td>\n",
       "      <td>0.004710</td>\n",
       "    </tr>\n",
       "    <tr>\n",
       "      <th>7437</th>\n",
       "      <td>@planet4589 Sounds like pure luxury! When I said ‘sponge’, I was actually speaking metaphorically. Truth is, I was just a simple nucleotide, drifting alone in small crevice with 3 trillion siblings.</td>\n",
       "      <td>NEGATIVE</td>\n",
       "      <td>0.964534</td>\n",
       "      <td>POS</td>\n",
       "      <td>0.958692</td>\n",
       "      <td>0.005842</td>\n",
       "    </tr>\n",
       "    <tr>\n",
       "      <th>7875</th>\n",
       "      <td>@ElectrekCo I was just there. Cardboard being prepped for recycling along southern fence line caught fire. Super appreciate fast response by Fremont fire dept! No injuries or damage to factory.</td>\n",
       "      <td>NEGATIVE</td>\n",
       "      <td>0.950636</td>\n",
       "      <td>POS</td>\n",
       "      <td>0.944345</td>\n",
       "      <td>0.006292</td>\n",
       "    </tr>\n",
       "    <tr>\n",
       "      <th>8060</th>\n",
       "      <td>@DMC_Ryan Definitely. We gave up some grip &amp;amp; width in exchange for range. Would recommend stickier tires &amp;amp; wider on rear for best performance. You might get 3.3 sec 0-60 mph or better with optimized rims &amp;amp; tires.</td>\n",
       "      <td>NEGATIVE</td>\n",
       "      <td>0.788538</td>\n",
       "      <td>POS</td>\n",
       "      <td>0.785749</td>\n",
       "      <td>0.002790</td>\n",
       "    </tr>\n",
       "    <tr>\n",
       "      <th>8558</th>\n",
       "      <td>@anandrajk @lexiheft @Tesla That issue is better in latest Autopilot software rolling out now &amp;amp; fully fixed in August update as part of our long-awaited Tesla Version 9. To date, Autopilot resources have rightly focused entirely on safety. With V9, we will begin to enable full self-driving features.</td>\n",
       "      <td>NEGATIVE</td>\n",
       "      <td>0.600395</td>\n",
       "      <td>POS</td>\n",
       "      <td>0.600977</td>\n",
       "      <td>0.000582</td>\n",
       "    </tr>\n",
       "    <tr>\n",
       "      <th>9529</th>\n",
       "      <td>@ProductHunt Just kept working on my crown chakra and boom! Don't let anyone tell you magic isn't real. Warning, EXTREMELY powerful  https://t.co/RYgcygMFgl</td>\n",
       "      <td>NEGATIVE</td>\n",
       "      <td>0.984790</td>\n",
       "      <td>POS</td>\n",
       "      <td>0.990150</td>\n",
       "      <td>0.005360</td>\n",
       "    </tr>\n",
       "    <tr>\n",
       "      <th>9690</th>\n",
       "      <td>Tesla Powerwalls can support houses of any size, but the cool thing is we can tow this house around with a Model X!  https://t.co/MmQl8BPetY</td>\n",
       "      <td>NEGATIVE</td>\n",
       "      <td>0.954645</td>\n",
       "      <td>POS</td>\n",
       "      <td>0.952614</td>\n",
       "      <td>0.002031</td>\n",
       "    </tr>\n",
       "    <tr>\n",
       "      <th>9805</th>\n",
       "      <td>Excited to announce the launch of  https://t.co/J6TuRWIQAA! It's a little verbose right now, but that will be fixed tomorrow.</td>\n",
       "      <td>NEGATIVE</td>\n",
       "      <td>0.990545</td>\n",
       "      <td>POS</td>\n",
       "      <td>0.981682</td>\n",
       "      <td>0.008863</td>\n",
       "    </tr>\n",
       "    <tr>\n",
       "      <th>9871</th>\n",
       "      <td>They are so underappreciated</td>\n",
       "      <td>NEGATIVE</td>\n",
       "      <td>0.965448</td>\n",
       "      <td>POS</td>\n",
       "      <td>0.973740</td>\n",
       "      <td>0.008292</td>\n",
       "    </tr>\n",
       "    <tr>\n",
       "      <th>11163</th>\n",
       "      <td>@drew Just order the SpaceX option package!</td>\n",
       "      <td>NEGATIVE</td>\n",
       "      <td>0.508859</td>\n",
       "      <td>POS</td>\n",
       "      <td>0.518553</td>\n",
       "      <td>0.009694</td>\n",
       "    </tr>\n",
       "    <tr>\n",
       "      <th>11992</th>\n",
       "      <td>Would also recommend the Cheese Shop, Spam or Fish License by Monty Python.</td>\n",
       "      <td>NEGATIVE</td>\n",
       "      <td>0.799468</td>\n",
       "      <td>POS</td>\n",
       "      <td>0.795539</td>\n",
       "      <td>0.003928</td>\n",
       "    </tr>\n",
       "    <tr>\n",
       "      <th>12228</th>\n",
       "      <td>Uranium ore now available on Amazon! So much more convenient than Uzbekistan #AwesomeXmasGifts  http://t.co/jqWAJrnY</td>\n",
       "      <td>NEGATIVE</td>\n",
       "      <td>0.969819</td>\n",
       "      <td>POS</td>\n",
       "      <td>0.965021</td>\n",
       "      <td>0.004797</td>\n",
       "    </tr>\n",
       "    <tr>\n",
       "      <th>12354</th>\n",
       "      <td>Falcon flew perfectly!! Dragon in orbit, comm locked and solar arrays active!! Feels like a giant weight just came off my back :)</td>\n",
       "      <td>NEGATIVE</td>\n",
       "      <td>0.970973</td>\n",
       "      <td>POS</td>\n",
       "      <td>0.975781</td>\n",
       "      <td>0.004808</td>\n",
       "    </tr>\n",
       "  </tbody>\n",
       "</table>\n",
       "</div>"
      ],
      "text/plain": [
       "                                                                                                                                                                                                                                                                                                                 tweets  \\\n",
       "132                                                                                                                                                                                                                                            @summerlinARK We should be laughing our asses off if it’s so damn smart!   \n",
       "378                                                                                                                                                                                                                                                                               @TechAmazing @UniverCurious Tunnels!!   \n",
       "1218                                                                                                                   @Nigel_Lockyer I could not be more excited about the new supercollider! That said, while it is considerably larger, I don’t think it necessarily requires all that much incremental engineering.   \n",
       "1916                                                                                                                                                                                                                                                        @flcnhvy It will blow ur mind haha  https://t.co/LqnKEN5Kjn   \n",
       "2256                                                                                                                                                                                                      @EfficiencyLast @jaminwestby @teslaownersSV @jgrano305 @TeslaratiTeam @Teslarati Should do this automatically   \n",
       "3977                                                                                                                                                                                                                                                                                        Chairs are underappreciated   \n",
       "4162                                                                                                                                                                                                                    Almost three now. Boca team is crushing it! Starship has giant dome 🤣🤣  https://t.co/qTN2TU02pb   \n",
       "5541                                                                                                                                   @austinbarnard45 Exciting progress in Boca! Hopper almost ready to hover. Based on tonight’s test, looks like 600 Hz Raptor vibration problem is fixed.  https://t.co/9bLWOHG0sV   \n",
       "5554                                                                                                                                                         Reason for top rating is that active steering &amp; braking safety features of Tesla Autopilot are turned on no cost for all cars  https://t.co/HBKwAEbgc9   \n",
       "6145                                                                                                                                                                                                                                     @martinengwicht @msitver @FrankLuntz Anti-matter def wins on energy density 🤣🤣   \n",
       "6185                                                                                                                                                                                                                                                                                      Bach is killing it on YouTube   \n",
       "6455                                                                                                                                @nextspaceflight @Erdayastronaut @DiscoverMag Yes. Sensitive propulsion &amp; avionics remained dry. Great work by SpaceX Dragon engineering team. Major improvement over Dragon 1.   \n",
       "7058                                                                                                                                                                                                                                                                                                 @IanReyTamayo Haha   \n",
       "7211                                                                                                                                                                                                                                                                                           💕🍜 ramen is sooo good🍜 💕   \n",
       "7437                                                                                                             @planet4589 Sounds like pure luxury! When I said ‘sponge’, I was actually speaking metaphorically. Truth is, I was just a simple nucleotide, drifting alone in small crevice with 3 trillion siblings.   \n",
       "7875                                                                                                                  @ElectrekCo I was just there. Cardboard being prepped for recycling along southern fence line caught fire. Super appreciate fast response by Fremont fire dept! No injuries or damage to factory.   \n",
       "8060                                                                                   @DMC_Ryan Definitely. We gave up some grip &amp; width in exchange for range. Would recommend stickier tires &amp; wider on rear for best performance. You might get 3.3 sec 0-60 mph or better with optimized rims &amp; tires.   \n",
       "8558   @anandrajk @lexiheft @Tesla That issue is better in latest Autopilot software rolling out now &amp; fully fixed in August update as part of our long-awaited Tesla Version 9. To date, Autopilot resources have rightly focused entirely on safety. With V9, we will begin to enable full self-driving features.   \n",
       "9529                                                                                                                                                       @ProductHunt Just kept working on my crown chakra and boom! Don't let anyone tell you magic isn't real. Warning, EXTREMELY powerful  https://t.co/RYgcygMFgl   \n",
       "9690                                                                                                                                                                       Tesla Powerwalls can support houses of any size, but the cool thing is we can tow this house around with a Model X!  https://t.co/MmQl8BPetY   \n",
       "9805                                                                                                                                                                                      Excited to announce the launch of  https://t.co/J6TuRWIQAA! It's a little verbose right now, but that will be fixed tomorrow.   \n",
       "9871                                                                                                                                                                                                                                                                                       They are so underappreciated   \n",
       "11163                                                                                                                                                                                                                                                                       @drew Just order the SpaceX option package!   \n",
       "11992                                                                                                                                                                                                                                       Would also recommend the Cheese Shop, Spam or Fish License by Monty Python.   \n",
       "12228                                                                                                                                                                                              Uranium ore now available on Amazon! So much more convenient than Uzbekistan #AwesomeXmasGifts  http://t.co/jqWAJrnY   \n",
       "12354                                                                                                                                                                                 Falcon flew perfectly!! Dragon in orbit, comm locked and solar arrays active!! Feels like a giant weight just came off my back :)   \n",
       "\n",
       "      dist_label  dist_score ber_label  ber_score     delta  \n",
       "132     NEGATIVE    0.978670       POS   0.987561  0.008891  \n",
       "378     NEGATIVE    0.991728       POS   0.990944  0.000785  \n",
       "1218    NEGATIVE    0.974094       POS   0.983020  0.008926  \n",
       "1916    NEGATIVE    0.978930       POS   0.972867  0.006063  \n",
       "2256    NEGATIVE    0.592546       POS   0.597797  0.005250  \n",
       "3977    NEGATIVE    0.981183       POS   0.983448  0.002265  \n",
       "4162    NEGATIVE    0.991221       POS   0.986549  0.004672  \n",
       "5541    NEGATIVE    0.954492       POS   0.961964  0.007472  \n",
       "5554    NEGATIVE    0.920904       POS   0.929154  0.008250  \n",
       "6145    NEGATIVE    0.876640       POS   0.877243  0.000603  \n",
       "6185    NEGATIVE    0.999310       POS   0.990566  0.008744  \n",
       "6455    NEGATIVE    0.974400       POS   0.974273  0.000127  \n",
       "7058    NEGATIVE    0.507522       POS   0.506620  0.000901  \n",
       "7211    NEGATIVE    0.987336       POS   0.992047  0.004710  \n",
       "7437    NEGATIVE    0.964534       POS   0.958692  0.005842  \n",
       "7875    NEGATIVE    0.950636       POS   0.944345  0.006292  \n",
       "8060    NEGATIVE    0.788538       POS   0.785749  0.002790  \n",
       "8558    NEGATIVE    0.600395       POS   0.600977  0.000582  \n",
       "9529    NEGATIVE    0.984790       POS   0.990150  0.005360  \n",
       "9690    NEGATIVE    0.954645       POS   0.952614  0.002031  \n",
       "9805    NEGATIVE    0.990545       POS   0.981682  0.008863  \n",
       "9871    NEGATIVE    0.965448       POS   0.973740  0.008292  \n",
       "11163   NEGATIVE    0.508859       POS   0.518553  0.009694  \n",
       "11992   NEGATIVE    0.799468       POS   0.795539  0.003928  \n",
       "12228   NEGATIVE    0.969819       POS   0.965021  0.004797  \n",
       "12354   NEGATIVE    0.970973       POS   0.975781  0.004808  "
      ]
     },
     "execution_count": 128,
     "metadata": {},
     "output_type": "execute_result"
    }
   ],
   "source": [
    "txt[(txt['dist_label']=='NEGATIVE') & (txt['ber_label']=='POS') & (txt['delta']<0.01)]"
   ]
  },
  {
   "cell_type": "code",
   "execution_count": 130,
   "id": "07116e9b-a3ac-4815-ab7b-bd2efede3ca6",
   "metadata": {},
   "outputs": [
    {
     "data": {
      "text/html": [
       "<div>\n",
       "<style scoped>\n",
       "    .dataframe tbody tr th:only-of-type {\n",
       "        vertical-align: middle;\n",
       "    }\n",
       "\n",
       "    .dataframe tbody tr th {\n",
       "        vertical-align: top;\n",
       "    }\n",
       "\n",
       "    .dataframe thead th {\n",
       "        text-align: right;\n",
       "    }\n",
       "</style>\n",
       "<table border=\"1\" class=\"dataframe\">\n",
       "  <thead>\n",
       "    <tr style=\"text-align: right;\">\n",
       "      <th></th>\n",
       "      <th>tweets</th>\n",
       "      <th>dist_label</th>\n",
       "      <th>dist_score</th>\n",
       "      <th>ber_label</th>\n",
       "      <th>ber_score</th>\n",
       "      <th>delta</th>\n",
       "    </tr>\n",
       "  </thead>\n",
       "  <tbody>\n",
       "    <tr>\n",
       "      <th>462</th>\n",
       "      <td>@RationalEtienne @Adamklotz_ Starlink is a staggeringly difficult technical &amp;amp; economic endeavor. However, if we don’t fail, the cost to end users will improve every year.</td>\n",
       "      <td>POSITIVE</td>\n",
       "      <td>0.532565</td>\n",
       "      <td>NEG</td>\n",
       "      <td>0.487776</td>\n",
       "      <td>0.044789</td>\n",
       "    </tr>\n",
       "    <tr>\n",
       "      <th>1264</th>\n",
       "      <td>Wow, this mayo sure is salty!</td>\n",
       "      <td>POSITIVE</td>\n",
       "      <td>0.975310</td>\n",
       "      <td>NEG</td>\n",
       "      <td>0.955648</td>\n",
       "      <td>0.019662</td>\n",
       "    </tr>\n",
       "    <tr>\n",
       "      <th>2072</th>\n",
       "      <td>@schristakos @BernieSanders And to think I used to like Bernie! 😢  https://t.co/adojS2UCe3</td>\n",
       "      <td>POSITIVE</td>\n",
       "      <td>0.661259</td>\n",
       "      <td>NEG</td>\n",
       "      <td>0.612111</td>\n",
       "      <td>0.049148</td>\n",
       "    </tr>\n",
       "    <tr>\n",
       "      <th>2969</th>\n",
       "      <td>@flcnhvy @thirdrowtesla @YoavOffek Roundabouts no problem, but dodging distracted human drivers very tricky!</td>\n",
       "      <td>POSITIVE</td>\n",
       "      <td>0.876912</td>\n",
       "      <td>NEG</td>\n",
       "      <td>0.906452</td>\n",
       "      <td>0.029540</td>\n",
       "    </tr>\n",
       "    <tr>\n",
       "      <th>3011</th>\n",
       "      <td>@AlexBerenson @neil_ferguson What a tool</td>\n",
       "      <td>POSITIVE</td>\n",
       "      <td>0.989700</td>\n",
       "      <td>NEG</td>\n",
       "      <td>0.971400</td>\n",
       "      <td>0.018300</td>\n",
       "    </tr>\n",
       "    <tr>\n",
       "      <th>3357</th>\n",
       "      <td>@thirdrowtesla Yes, this is a real problem. The science is not in doubt.</td>\n",
       "      <td>POSITIVE</td>\n",
       "      <td>0.989855</td>\n",
       "      <td>NEG</td>\n",
       "      <td>0.955395</td>\n",
       "      <td>0.034459</td>\n",
       "    </tr>\n",
       "    <tr>\n",
       "      <th>3370</th>\n",
       "      <td>@Jamie_Woodward_ … is bs</td>\n",
       "      <td>POSITIVE</td>\n",
       "      <td>0.965898</td>\n",
       "      <td>NEG</td>\n",
       "      <td>0.949578</td>\n",
       "      <td>0.016320</td>\n",
       "    </tr>\n",
       "    <tr>\n",
       "      <th>3382</th>\n",
       "      <td>@Afan_Mujawar .@GreatDismal</td>\n",
       "      <td>POSITIVE</td>\n",
       "      <td>0.937056</td>\n",
       "      <td>NEG</td>\n",
       "      <td>0.955660</td>\n",
       "      <td>0.018604</td>\n",
       "    </tr>\n",
       "    <tr>\n",
       "      <th>3645</th>\n",
       "      <td>Wacktivism!</td>\n",
       "      <td>POSITIVE</td>\n",
       "      <td>0.992553</td>\n",
       "      <td>NEG</td>\n",
       "      <td>0.965154</td>\n",
       "      <td>0.027398</td>\n",
       "    </tr>\n",
       "    <tr>\n",
       "      <th>3700</th>\n",
       "      <td>@Sofiaan @Tesla True. Oddly, those who complained didn’t actually order FSD. Perhaps they weren’t aware that the computer is upgraded for free if the FSD option is ordered even after delivery.</td>\n",
       "      <td>POSITIVE</td>\n",
       "      <td>0.557036</td>\n",
       "      <td>NEG</td>\n",
       "      <td>0.511047</td>\n",
       "      <td>0.045990</td>\n",
       "    </tr>\n",
       "    <tr>\n",
       "      <th>5172</th>\n",
       "      <td>The sun is an immense thermonuclear explosion fyi</td>\n",
       "      <td>POSITIVE</td>\n",
       "      <td>0.993555</td>\n",
       "      <td>NEG</td>\n",
       "      <td>0.961322</td>\n",
       "      <td>0.032233</td>\n",
       "    </tr>\n",
       "    <tr>\n",
       "      <th>5676</th>\n",
       "      <td>@engineers_feed Real issue will an aging &amp;amp; declining world population by 2050, *not* overpopulation. Randers estimate far more accurate than UN imo:  https://t.co/cdHf62bxpb</td>\n",
       "      <td>POSITIVE</td>\n",
       "      <td>0.717653</td>\n",
       "      <td>NEG</td>\n",
       "      <td>0.711552</td>\n",
       "      <td>0.006101</td>\n",
       "    </tr>\n",
       "    <tr>\n",
       "      <th>6142</th>\n",
       "      <td>Over a million combustion engine (it’s right there in the name!) car fires per year &amp;amp; thousands of deaths, but one Tesla car fire with no injuries gets biggest headlines. Why the double standard? This is a real question.</td>\n",
       "      <td>POSITIVE</td>\n",
       "      <td>0.977781</td>\n",
       "      <td>NEG</td>\n",
       "      <td>0.974334</td>\n",
       "      <td>0.003447</td>\n",
       "    </tr>\n",
       "    <tr>\n",
       "      <th>6392</th>\n",
       "      <td>@KarlStrahl Responsible for more deaths than any other chemical! Weirdly, dihydrogen dixoxide, with only one extra oxygen, is not good to drink, but great for changing hair color.</td>\n",
       "      <td>POSITIVE</td>\n",
       "      <td>0.991396</td>\n",
       "      <td>NEG</td>\n",
       "      <td>0.963772</td>\n",
       "      <td>0.027624</td>\n",
       "    </tr>\n",
       "    <tr>\n",
       "      <th>7298</th>\n",
       "      <td>@NBCNews This is completely backwards. Based on what we’ve learned from the Hawthorne test tunnel, we’re moving forward with a much larger tunnel network under LA. Won’t need a second test tunnel under Sepulveda.</td>\n",
       "      <td>POSITIVE</td>\n",
       "      <td>0.941329</td>\n",
       "      <td>NEG</td>\n",
       "      <td>0.925233</td>\n",
       "      <td>0.016096</td>\n",
       "    </tr>\n",
       "    <tr>\n",
       "      <th>7647</th>\n",
       "      <td>@technosucks Yes</td>\n",
       "      <td>POSITIVE</td>\n",
       "      <td>0.997461</td>\n",
       "      <td>NEG</td>\n",
       "      <td>0.976792</td>\n",
       "      <td>0.020670</td>\n",
       "    </tr>\n",
       "    <tr>\n",
       "      <th>7735</th>\n",
       "      <td>@LanceUlanoff Front vs rear wheel weight distribution, though commonly asked, isn't the right question. You can have 50% on front, 50% on rear &amp;amp; still have poor handling if mass elements are far from center. Dumbbell mass distribution is bad, spinning top/dreidel is good.</td>\n",
       "      <td>POSITIVE</td>\n",
       "      <td>0.898460</td>\n",
       "      <td>NEG</td>\n",
       "      <td>0.915743</td>\n",
       "      <td>0.017283</td>\n",
       "    </tr>\n",
       "    <tr>\n",
       "      <th>8550</th>\n",
       "      <td>@raptorweb Sigh. This is crux of matter: can’t make system too annoying or people won’t use it, negatively affecting safety, but also can’t allow people to get too complacent or safety again suffers. Latest update should have a positive effect on latter issue especially.</td>\n",
       "      <td>POSITIVE</td>\n",
       "      <td>0.966327</td>\n",
       "      <td>NEG</td>\n",
       "      <td>0.921747</td>\n",
       "      <td>0.044580</td>\n",
       "    </tr>\n",
       "    <tr>\n",
       "      <th>8607</th>\n",
       "      <td>@AlexGuichet Indeed, the esthetics of cutlery are a source of great stress</td>\n",
       "      <td>POSITIVE</td>\n",
       "      <td>0.981466</td>\n",
       "      <td>NEG</td>\n",
       "      <td>0.967318</td>\n",
       "      <td>0.014147</td>\n",
       "    </tr>\n",
       "    <tr>\n",
       "      <th>8688</th>\n",
       "      <td>@PassionPlanet1 @oneunderscore__ @ParkerMolloy @2sunsky @ashleyfeinberg You’re right. These guys can buzzkill themselves (pun intended). Signing off …</td>\n",
       "      <td>POSITIVE</td>\n",
       "      <td>0.989934</td>\n",
       "      <td>NEG</td>\n",
       "      <td>0.970655</td>\n",
       "      <td>0.019279</td>\n",
       "    </tr>\n",
       "    <tr>\n",
       "      <th>8758</th>\n",
       "      <td>@amywestervelt @Billsocalif @RMac18 @weinbergersa I’ve just had it with sanctimonious journalists who appoint themselves protectors of the public interest &amp;amp; yet believe that same public is too stupid &amp;amp; immoral to assess their credibility. It’s amazing that you don’t understand how insufferably hypocritical that is. Wow.</td>\n",
       "      <td>POSITIVE</td>\n",
       "      <td>0.960749</td>\n",
       "      <td>NEG</td>\n",
       "      <td>0.982503</td>\n",
       "      <td>0.021754</td>\n",
       "    </tr>\n",
       "    <tr>\n",
       "      <th>8775</th>\n",
       "      <td>@dancow @tedhu @chadgowens @scottwww @JessicaHuseman That was obvious from a mile away. I tried to use their product &amp;amp; it didn’t work. Not exactly a genius move by WSJ, but they were brave enough to say it.</td>\n",
       "      <td>POSITIVE</td>\n",
       "      <td>0.993109</td>\n",
       "      <td>NEG</td>\n",
       "      <td>0.957105</td>\n",
       "      <td>0.036003</td>\n",
       "    </tr>\n",
       "    <tr>\n",
       "      <th>8786</th>\n",
       "      <td>@MrNobre There no good car emojis. I mean seriously, what the heck are these 🚗 🚙 and this is the best one 🚘</td>\n",
       "      <td>POSITIVE</td>\n",
       "      <td>0.986251</td>\n",
       "      <td>NEG</td>\n",
       "      <td>0.965998</td>\n",
       "      <td>0.020253</td>\n",
       "    </tr>\n",
       "    <tr>\n",
       "      <th>8913</th>\n",
       "      <td>What’s actually amazing about this accident is that a Model S hit a fire truck at 60mph and the driver only broke an ankle. An impact at that speed usually results in severe injury or death.</td>\n",
       "      <td>POSITIVE</td>\n",
       "      <td>0.976313</td>\n",
       "      <td>NEG</td>\n",
       "      <td>0.931519</td>\n",
       "      <td>0.044793</td>\n",
       "    </tr>\n",
       "    <tr>\n",
       "      <th>8978</th>\n",
       "      <td>@ComfortablySmug What do you think we’re living in?</td>\n",
       "      <td>POSITIVE</td>\n",
       "      <td>0.630482</td>\n",
       "      <td>NEG</td>\n",
       "      <td>0.670749</td>\n",
       "      <td>0.040267</td>\n",
       "    </tr>\n",
       "    <tr>\n",
       "      <th>9132</th>\n",
       "      <td>@serdarsprofile @brianacton I didn’t realize there was one. Will do.</td>\n",
       "      <td>POSITIVE</td>\n",
       "      <td>0.770756</td>\n",
       "      <td>NEG</td>\n",
       "      <td>0.758349</td>\n",
       "      <td>0.012407</td>\n",
       "    </tr>\n",
       "    <tr>\n",
       "      <th>10152</th>\n",
       "      <td>@ivanmartinsanz Boring Not Boring</td>\n",
       "      <td>POSITIVE</td>\n",
       "      <td>0.901453</td>\n",
       "      <td>NEG</td>\n",
       "      <td>0.944679</td>\n",
       "      <td>0.043226</td>\n",
       "    </tr>\n",
       "    <tr>\n",
       "      <th>11991</th>\n",
       "      <td>@dpinsen People tell me Cory Johnson is a shill for the shorts. Don't know if true, but he sure behaves that way.</td>\n",
       "      <td>POSITIVE</td>\n",
       "      <td>0.945686</td>\n",
       "      <td>NEG</td>\n",
       "      <td>0.936528</td>\n",
       "      <td>0.009158</td>\n",
       "    </tr>\n",
       "  </tbody>\n",
       "</table>\n",
       "</div>"
      ],
      "text/plain": [
       "                                                                                                                                                                                                                                                                                                                                          tweets  \\\n",
       "462                                                                                                                                                               @RationalEtienne @Adamklotz_ Starlink is a staggeringly difficult technical &amp; economic endeavor. However, if we don’t fail, the cost to end users will improve every year.   \n",
       "1264                                                                                                                                                                                                                                                                                                               Wow, this mayo sure is salty!   \n",
       "2072                                                                                                                                                                                                                                                  @schristakos @BernieSanders And to think I used to like Bernie! 😢  https://t.co/adojS2UCe3   \n",
       "2969                                                                                                                                                                                                                                @flcnhvy @thirdrowtesla @YoavOffek Roundabouts no problem, but dodging distracted human drivers very tricky!   \n",
       "3011                                                                                                                                                                                                                                                                                                    @AlexBerenson @neil_ferguson What a tool   \n",
       "3357                                                                                                                                                                                                                                                                    @thirdrowtesla Yes, this is a real problem. The science is not in doubt.   \n",
       "3370                                                                                                                                                                                                                                                                                                                    @Jamie_Woodward_ … is bs   \n",
       "3382                                                                                                                                                                                                                                                                                                                 @Afan_Mujawar .@GreatDismal   \n",
       "3645                                                                                                                                                                                                                                                                                                                                 Wacktivism!   \n",
       "3700                                                                                                                                            @Sofiaan @Tesla True. Oddly, those who complained didn’t actually order FSD. Perhaps they weren’t aware that the computer is upgraded for free if the FSD option is ordered even after delivery.   \n",
       "5172                                                                                                                                                                                                                                                                                           The sun is an immense thermonuclear explosion fyi   \n",
       "5676                                                                                                                                                           @engineers_feed Real issue will an aging &amp; declining world population by 2050, *not* overpopulation. Randers estimate far more accurate than UN imo:  https://t.co/cdHf62bxpb   \n",
       "6142                                                                                                            Over a million combustion engine (it’s right there in the name!) car fires per year &amp; thousands of deaths, but one Tesla car fire with no injuries gets biggest headlines. Why the double standard? This is a real question.   \n",
       "6392                                                                                                                                                         @KarlStrahl Responsible for more deaths than any other chemical! Weirdly, dihydrogen dixoxide, with only one extra oxygen, is not good to drink, but great for changing hair color.   \n",
       "7298                                                                                                                        @NBCNews This is completely backwards. Based on what we’ve learned from the Hawthorne test tunnel, we’re moving forward with a much larger tunnel network under LA. Won’t need a second test tunnel under Sepulveda.   \n",
       "7647                                                                                                                                                                                                                                                                                                                            @technosucks Yes   \n",
       "7735                                                        @LanceUlanoff Front vs rear wheel weight distribution, though commonly asked, isn't the right question. You can have 50% on front, 50% on rear &amp; still have poor handling if mass elements are far from center. Dumbbell mass distribution is bad, spinning top/dreidel is good.   \n",
       "8550                                                             @raptorweb Sigh. This is crux of matter: can’t make system too annoying or people won’t use it, negatively affecting safety, but also can’t allow people to get too complacent or safety again suffers. Latest update should have a positive effect on latter issue especially.   \n",
       "8607                                                                                                                                                                                                                                                                  @AlexGuichet Indeed, the esthetics of cutlery are a source of great stress   \n",
       "8688                                                                                                                                                                                      @PassionPlanet1 @oneunderscore__ @ParkerMolloy @2sunsky @ashleyfeinberg You’re right. These guys can buzzkill themselves (pun intended). Signing off …   \n",
       "8758   @amywestervelt @Billsocalif @RMac18 @weinbergersa I’ve just had it with sanctimonious journalists who appoint themselves protectors of the public interest &amp; yet believe that same public is too stupid &amp; immoral to assess their credibility. It’s amazing that you don’t understand how insufferably hypocritical that is. Wow.   \n",
       "8775                                                                                                                          @dancow @tedhu @chadgowens @scottwww @JessicaHuseman That was obvious from a mile away. I tried to use their product &amp; it didn’t work. Not exactly a genius move by WSJ, but they were brave enough to say it.   \n",
       "8786                                                                                                                                                                                                                                 @MrNobre There no good car emojis. I mean seriously, what the heck are these 🚗 🚙 and this is the best one 🚘   \n",
       "8913                                                                                                                                              What’s actually amazing about this accident is that a Model S hit a fire truck at 60mph and the driver only broke an ankle. An impact at that speed usually results in severe injury or death.   \n",
       "8978                                                                                                                                                                                                                                                                                         @ComfortablySmug What do you think we’re living in?   \n",
       "9132                                                                                                                                                                                                                                                                        @serdarsprofile @brianacton I didn’t realize there was one. Will do.   \n",
       "10152                                                                                                                                                                                                                                                                                                          @ivanmartinsanz Boring Not Boring   \n",
       "11991                                                                                                                                                                                                                          @dpinsen People tell me Cory Johnson is a shill for the shorts. Don't know if true, but he sure behaves that way.   \n",
       "\n",
       "      dist_label  dist_score ber_label  ber_score     delta  \n",
       "462     POSITIVE    0.532565       NEG   0.487776  0.044789  \n",
       "1264    POSITIVE    0.975310       NEG   0.955648  0.019662  \n",
       "2072    POSITIVE    0.661259       NEG   0.612111  0.049148  \n",
       "2969    POSITIVE    0.876912       NEG   0.906452  0.029540  \n",
       "3011    POSITIVE    0.989700       NEG   0.971400  0.018300  \n",
       "3357    POSITIVE    0.989855       NEG   0.955395  0.034459  \n",
       "3370    POSITIVE    0.965898       NEG   0.949578  0.016320  \n",
       "3382    POSITIVE    0.937056       NEG   0.955660  0.018604  \n",
       "3645    POSITIVE    0.992553       NEG   0.965154  0.027398  \n",
       "3700    POSITIVE    0.557036       NEG   0.511047  0.045990  \n",
       "5172    POSITIVE    0.993555       NEG   0.961322  0.032233  \n",
       "5676    POSITIVE    0.717653       NEG   0.711552  0.006101  \n",
       "6142    POSITIVE    0.977781       NEG   0.974334  0.003447  \n",
       "6392    POSITIVE    0.991396       NEG   0.963772  0.027624  \n",
       "7298    POSITIVE    0.941329       NEG   0.925233  0.016096  \n",
       "7647    POSITIVE    0.997461       NEG   0.976792  0.020670  \n",
       "7735    POSITIVE    0.898460       NEG   0.915743  0.017283  \n",
       "8550    POSITIVE    0.966327       NEG   0.921747  0.044580  \n",
       "8607    POSITIVE    0.981466       NEG   0.967318  0.014147  \n",
       "8688    POSITIVE    0.989934       NEG   0.970655  0.019279  \n",
       "8758    POSITIVE    0.960749       NEG   0.982503  0.021754  \n",
       "8775    POSITIVE    0.993109       NEG   0.957105  0.036003  \n",
       "8786    POSITIVE    0.986251       NEG   0.965998  0.020253  \n",
       "8913    POSITIVE    0.976313       NEG   0.931519  0.044793  \n",
       "8978    POSITIVE    0.630482       NEG   0.670749  0.040267  \n",
       "9132    POSITIVE    0.770756       NEG   0.758349  0.012407  \n",
       "10152   POSITIVE    0.901453       NEG   0.944679  0.043226  \n",
       "11991   POSITIVE    0.945686       NEG   0.936528  0.009158  "
      ]
     },
     "execution_count": 130,
     "metadata": {},
     "output_type": "execute_result"
    }
   ],
   "source": [
    "txt[(txt['dist_label']=='POSITIVE') & (txt['ber_label']=='NEG') & (txt['delta']<0.05)]"
   ]
  },
  {
   "cell_type": "markdown",
   "id": "61c62f9a-673a-4d08-ba7d-549b1535d28d",
   "metadata": {},
   "source": [
    "## Conclusion\n",
    "\n",
    "- I've decided to compute the analysis on all tweets available, for both models.\n",
    "- I've choose to investigate the behavior on the extreme tail of the results (opposite results). These are some summary findings:\n",
    "    - distilbert returns more skewed results (power law)\n",
    "    - bertweet returns less skewd results, offering some kind of uncertainty on the results, given also the fact that there is a new \"neutral\" label\n",
    "    - These neutral results seems more related to the negative class predicted by distilbert model --> should be more investigated\n",
    "    - on the \"extreme\" value:\n",
    "        - distilberts seems to not deal with emojis respect to bertweet\n",
    "        - it's seems there is some kind of difficulty to predict the label of the \"tesla/spacex\" related tweets\n",
    "        - distilberts seems work more by looking at the meaning of a single \"keywords\", without looking at the sentence overall"
   ]
  },
  {
   "cell_type": "markdown",
   "id": "e0076007-6a24-4a15-adb7-a22388ae7568",
   "metadata": {},
   "source": [
    "Something more can be done: clustering of the tweets? communities detection?, etc..."
   ]
  },
  {
   "cell_type": "code",
   "execution_count": null,
   "id": "a6c34279-e11b-47f7-92f0-7ed03cdbda02",
   "metadata": {},
   "outputs": [],
   "source": []
  }
 ],
 "metadata": {
  "kernelspec": {
   "display_name": "dev",
   "language": "python",
   "name": "python3"
  },
  "language_info": {
   "codemirror_mode": {
    "name": "ipython",
    "version": 3
   },
   "file_extension": ".py",
   "mimetype": "text/x-python",
   "name": "python",
   "nbconvert_exporter": "python",
   "pygments_lexer": "ipython3",
   "version": "3.9.7"
  },
  "vscode": {
   "interpreter": {
    "hash": "635e31ff34c0350df6e9d804eda70786d94f48b17fcc73c378df4ea6ec0d01fd"
   }
  }
 },
 "nbformat": 4,
 "nbformat_minor": 5
}
