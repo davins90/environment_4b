{
 "cells": [
  {
   "cell_type": "markdown",
   "metadata": {
    "id": "2TPf8CY_Xumr"
   },
   "source": [
    "<p align = \"center\" draggable=”false” ><img src=\"https://user-images.githubusercontent.com/37101144/161836199-fdb0219d-0361-4988-bf26-48b0fad160a3.png\" \n",
    "     width=\"200px\"\n",
    "     height=\"auto\"/>\n",
    "</p>"
   ]
  },
  {
   "cell_type": "code",
   "execution_count": 3,
   "metadata": {},
   "outputs": [
    {
     "name": "stdout",
     "output_type": "stream",
     "text": [
      "Defaulting to user installation because normal site-packages is not writeable\n",
      "Collecting ipython==8.4.0\n",
      "  Downloading ipython-8.4.0-py3-none-any.whl (750 kB)\n",
      "\u001b[K     |████████████████████████████████| 750 kB 2.6 MB/s eta 0:00:01\n",
      "\u001b[?25hCollecting matplotlib==3.5.2\n",
      "  Downloading matplotlib-3.5.2-cp39-cp39-manylinux_2_5_x86_64.manylinux1_x86_64.whl (11.2 MB)\n",
      "\u001b[K     |████████████████████████████████| 11.2 MB 8.4 MB/s eta 0:00:01    |██████████████████▊             | 6.6 MB 5.7 MB/s eta 0:00:01\n",
      "\u001b[?25hCollecting numpy==1.23.1\n",
      "  Downloading numpy-1.23.1-cp39-cp39-manylinux_2_17_x86_64.manylinux2014_x86_64.whl (17.1 MB)\n",
      "\u001b[K     |████████████████████████████████| 17.1 MB 8.4 MB/s eta 0:00:01    |████████████▏                   | 6.5 MB 4.7 MB/s eta 0:00:03     |████████████████████▌           | 10.9 MB 8.3 MB/s eta 0:00:01\n",
      "\u001b[?25hCollecting pandas==1.4.3\n",
      "  Downloading pandas-1.4.3-cp39-cp39-manylinux_2_17_x86_64.manylinux2014_x86_64.whl (11.7 MB)\n",
      "\u001b[K     |████████████████████████████████| 11.7 MB 7.7 MB/s eta 0:00:01\n",
      "\u001b[?25hCollecting plotly==5.9.0\n",
      "  Downloading plotly-5.9.0-py2.py3-none-any.whl (15.2 MB)\n",
      "\u001b[K     |████████████████████████████████| 15.2 MB 3.9 MB/s eta 0:00:01     |█████████████████████▊          | 10.3 MB 8.1 MB/s eta 0:00:01     |█████████████████████████████▋  | 14.0 MB 3.9 MB/s eta 0:00:01\n",
      "\u001b[?25hCollecting scikit_learn==1.1.1\n",
      "  Downloading scikit_learn-1.1.1-cp39-cp39-manylinux_2_17_x86_64.manylinux2014_x86_64.whl (30.8 MB)\n",
      "\u001b[K     |████████████████████████████████| 30.8 MB 298 kB/s eta 0:00:012   |█████████▊                      | 9.4 MB 5.3 MB/s eta 0:00:05     |████████████████████████▋       | 23.6 MB 5.8 MB/s eta 0:00:02     |█████████████████████████████▉  | 28.7 MB 3.2 MB/s eta 0:00:01\n",
      "\u001b[?25hRequirement already satisfied: seaborn==0.11.2 in /anaconda/lib/python3.9/site-packages (from -r requirements.txt (line 7)) (0.11.2)\n",
      "Requirement already satisfied: shap in /home/feynman/.local/lib/python3.9/site-packages (from -r requirements.txt (line 8)) (0.41.0)\n",
      "Collecting streamlit==1.11.1\n",
      "  Downloading streamlit-1.11.1-py2.py3-none-any.whl (9.1 MB)\n",
      "\u001b[K     |████████████████████████████████| 9.1 MB 2.8 MB/s eta 0:00:01\n",
      "\u001b[?25hCollecting tensorflow\n",
      "  Downloading tensorflow-2.11.0-cp39-cp39-manylinux_2_17_x86_64.manylinux2014_x86_64.whl (588.3 MB)\n",
      "\u001b[K     |████████████████████████████████| 588.3 MB 18 kB/s  eta 0:00:017  |▍                               | 7.4 MB 6.6 MB/s eta 0:01:29     |▊                               | 13.2 MB 4.4 MB/s eta 0:02:11     |▉                               | 14.8 MB 4.4 MB/s eta 0:02:10     |█                               | 18.2 MB 6.3 MB/s eta 0:01:30     |█▎                              | 23.0 MB 6.3 MB/s eta 0:01:30     |█▉                              | 32.8 MB 6.4 MB/s eta 0:01:27     |██                              | 34.9 MB 1.3 MB/s eta 0:06:53     |██                              | 36.4 MB 1.3 MB/s eta 0:06:52     |██▌                             | 45.2 MB 1.5 MB/s eta 0:06:05     |██▋                             | 47.3 MB 1.5 MB/s eta 0:06:03     |██▋                             | 48.4 MB 1.5 MB/s eta 0:06:02     |████▉                           | 88.6 MB 6.9 MB/s eta 0:01:13     |██████▎                         | 115.6 MB 6.8 MB/s eta 0:01:10     |████████                        | 148.8 MB 7.1 MB/s eta 0:01:03     |████████▏                       | 149.6 MB 7.1 MB/s eta 0:01:03     |████████▊                       | 159.9 MB 3.8 MB/s eta 0:01:53     |█████████                       | 165.6 MB 4.6 MB/s eta 0:01:33     |█████████▊                      | 179.0 MB 4.9 MB/s eta 0:01:24     |████████████                    | 219.8 MB 3.8 MB/s eta 0:01:36     |████████████▉                   | 235.4 MB 9.0 MB/s eta 0:00:40     |████████████▉                   | 236.4 MB 9.9 MB/s eta 0:00:36     |████████████▉                   | 236.8 MB 9.9 MB/s eta 0:00:36     |█████████████▍                  | 246.2 MB 5.3 MB/s eta 0:01:05     |█████████████▌                  | 248.4 MB 5.3 MB/s eta 0:01:05     |█████████████▊                  | 251.9 MB 6.4 MB/s eta 0:00:53     |█████████████▊                  | 252.3 MB 6.4 MB/s eta 0:00:53     |██████████████▍                 | 264.9 MB 5.8 MB/s eta 0:00:56     |██████████████▉                 | 272.9 MB 8.0 MB/s eta 0:00:40     |███████████████▎                | 280.7 MB 4.6 MB/s eta 0:01:08     |███████████████▍                | 282.1 MB 4.6 MB/s eta 0:01:07     |███████████████▊                | 288.9 MB 7.9 MB/s eta 0:00:38     |█████████████████               | 312.7 MB 5.8 MB/s eta 0:00:48     |██████████████████▌             | 339.4 MB 3.9 MB/s eta 0:01:04     |██████████████████▊             | 343.2 MB 7.8 MB/s eta 0:00:32     |███████████████████             | 349.8 MB 4.1 MB/s eta 0:00:59     |███████████████████▉            | 364.2 MB 6.6 MB/s eta 0:00:34     |████████████████████            | 369.3 MB 3.9 MB/s eta 0:00:56     |█████████████████████           | 386.0 MB 6.4 MB/s eta 0:00:32     |█████████████████████           | 387.0 MB 6.4 MB/s eta 0:00:32     |█████████████████████▏          | 389.9 MB 7.8 MB/s eta 0:00:26     |█████████████████████▉          | 402.1 MB 7.4 MB/s eta 0:00:26     |██████████████████████          | 402.9 MB 7.4 MB/s eta 0:00:26     |██████████████████████▏         | 407.2 MB 7.4 MB/s eta 0:00:25     |██████████████████████▌         | 414.3 MB 6.5 MB/s eta 0:00:27     |███████████████████████▏        | 426.6 MB 7.1 MB/s eta 0:00:23     |███████████████████████▎        | 427.0 MB 6.6 MB/s eta 0:00:25     |████████████████████████▏       | 444.3 MB 7.0 MB/s eta 0:00:21     |████████████████████████▋       | 453.3 MB 9.7 MB/s eta 0:00:14     |████████████████████████▉       | 455.8 MB 9.7 MB/s eta 0:00:14     |█████████████████████████       | 458.3 MB 9.7 MB/s eta 0:00:14     |█████████████████████████       | 459.6 MB 9.7 MB/s eta 0:00:14     |█████████████████████████▌      | 468.9 MB 6.9 MB/s eta 0:00:18     |██████████████████████████      | 479.0 MB 3.4 MB/s eta 0:00:32     |██████████████████████████      | 479.8 MB 3.4 MB/s eta 0:00:32     |██████████████████████████      | 480.0 MB 3.4 MB/s eta 0:00:32 | 484.5 MB 1.7 MB/s eta 0:01:03     |██████████████████████████▌     | 486.7 MB 4.1 MB/s eta 0:00:25     |██████████████████████████▋     | 489.6 MB 3.6 MB/s eta 0:00:28     |██████████████████████████▊     | 491.1 MB 3.6 MB/s eta 0:00:28     |███████████████████████████▍    | 503.4 MB 3.3 MB/s eta 0:00:26     |███████████████████████████▋    | 506.9 MB 3.3 MB/s eta 0:00:25��███████████████████▋   | 526.4 MB 5.3 MB/s eta 0:00:12     |█████████████████████████████   | 534.9 MB 4.1 MB/s eta 0:00:13     |██████████████████████████████▌ | 560.2 MB 9.0 MB/s eta 0:00:04     |███████████████████████████████ | 568.4 MB 9.7 MB/s eta 0:00:032 MB 9.7 MB/s eta 0:00:02██████ | 569.4 MB 9.7 MB/s eta 0:00:02     |███████████████████████████████▊| 583.7 MB 6.2 MB/s eta 0:00:01\n",
      "\u001b[?25hRequirement already satisfied: tpot in /home/feynman/.local/lib/python3.9/site-packages (from -r requirements.txt (line 11)) (0.11.7)\n",
      "Requirement already satisfied: setuptools>=18.5 in /anaconda/lib/python3.9/site-packages (from ipython==8.4.0->-r requirements.txt (line 1)) (58.0.4)\n",
      "Requirement already satisfied: jedi>=0.16 in /anaconda/lib/python3.9/site-packages (from ipython==8.4.0->-r requirements.txt (line 1)) (0.18.0)\n",
      "Requirement already satisfied: traitlets>=5 in /anaconda/lib/python3.9/site-packages (from ipython==8.4.0->-r requirements.txt (line 1)) (5.1.0)\n",
      "Requirement already satisfied: pygments>=2.4.0 in /anaconda/lib/python3.9/site-packages (from ipython==8.4.0->-r requirements.txt (line 1)) (2.10.0)\n",
      "Requirement already satisfied: matplotlib-inline in /anaconda/lib/python3.9/site-packages (from ipython==8.4.0->-r requirements.txt (line 1)) (0.1.2)\n",
      "Requirement already satisfied: pexpect>4.3 in /anaconda/lib/python3.9/site-packages (from ipython==8.4.0->-r requirements.txt (line 1)) (4.8.0)\n",
      "Requirement already satisfied: pickleshare in /anaconda/lib/python3.9/site-packages (from ipython==8.4.0->-r requirements.txt (line 1)) (0.7.5)\n",
      "Requirement already satisfied: backcall in /anaconda/lib/python3.9/site-packages (from ipython==8.4.0->-r requirements.txt (line 1)) (0.2.0)\n",
      "Collecting stack-data\n",
      "  Downloading stack_data-0.6.2-py3-none-any.whl (24 kB)\n",
      "Requirement already satisfied: decorator in /anaconda/lib/python3.9/site-packages (from ipython==8.4.0->-r requirements.txt (line 1)) (5.1.0)\n",
      "Requirement already satisfied: prompt-toolkit!=3.0.0,!=3.0.1,<3.1.0,>=2.0.0 in /anaconda/lib/python3.9/site-packages (from ipython==8.4.0->-r requirements.txt (line 1)) (3.0.20)\n",
      "Requirement already satisfied: pillow>=6.2.0 in /anaconda/lib/python3.9/site-packages (from matplotlib==3.5.2->-r requirements.txt (line 2)) (8.4.0)\n",
      "Requirement already satisfied: pyparsing>=2.2.1 in /anaconda/lib/python3.9/site-packages (from matplotlib==3.5.2->-r requirements.txt (line 2)) (3.0.4)\n",
      "Requirement already satisfied: kiwisolver>=1.0.1 in /anaconda/lib/python3.9/site-packages (from matplotlib==3.5.2->-r requirements.txt (line 2)) (1.3.1)\n",
      "Requirement already satisfied: fonttools>=4.22.0 in /anaconda/lib/python3.9/site-packages (from matplotlib==3.5.2->-r requirements.txt (line 2)) (4.25.0)\n",
      "Requirement already satisfied: packaging>=20.0 in /anaconda/lib/python3.9/site-packages (from matplotlib==3.5.2->-r requirements.txt (line 2)) (21.0)\n",
      "Requirement already satisfied: cycler>=0.10 in /anaconda/lib/python3.9/site-packages (from matplotlib==3.5.2->-r requirements.txt (line 2)) (0.10.0)\n",
      "Requirement already satisfied: python-dateutil>=2.7 in /anaconda/lib/python3.9/site-packages (from matplotlib==3.5.2->-r requirements.txt (line 2)) (2.8.2)\n",
      "Requirement already satisfied: pytz>=2020.1 in /anaconda/lib/python3.9/site-packages (from pandas==1.4.3->-r requirements.txt (line 4)) (2021.3)\n",
      "Collecting tenacity>=6.2.0\n",
      "  Downloading tenacity-8.1.0-py3-none-any.whl (23 kB)\n",
      "Requirement already satisfied: scipy>=1.3.2 in /anaconda/lib/python3.9/site-packages (from scikit_learn==1.1.1->-r requirements.txt (line 6)) (1.7.1)\n",
      "Requirement already satisfied: joblib>=1.0.0 in /anaconda/lib/python3.9/site-packages (from scikit_learn==1.1.1->-r requirements.txt (line 6)) (1.1.0)\n",
      "Requirement already satisfied: threadpoolctl>=2.0.0 in /anaconda/lib/python3.9/site-packages (from scikit_learn==1.1.1->-r requirements.txt (line 6)) (2.2.0)\n",
      "Requirement already satisfied: attrs>=16.0.0 in /anaconda/lib/python3.9/site-packages (from streamlit==1.11.1->-r requirements.txt (line 9)) (21.2.0)\n",
      "Requirement already satisfied: requests>=2.4 in /anaconda/lib/python3.9/site-packages (from streamlit==1.11.1->-r requirements.txt (line 9)) (2.26.0)\n",
      "Requirement already satisfied: cachetools>=4.0 in /home/feynman/.local/lib/python3.9/site-packages (from streamlit==1.11.1->-r requirements.txt (line 9)) (5.2.0)\n",
      "Requirement already satisfied: gitpython!=3.1.19 in /home/feynman/.local/lib/python3.9/site-packages (from streamlit==1.11.1->-r requirements.txt (line 9)) (3.1.29)\n",
      "Requirement already satisfied: rich>=10.11.0 in /home/feynman/.local/lib/python3.9/site-packages (from streamlit==1.11.1->-r requirements.txt (line 9)) (12.6.0)\n",
      "Requirement already satisfied: typing-extensions>=3.10.0.0 in /anaconda/lib/python3.9/site-packages (from streamlit==1.11.1->-r requirements.txt (line 9)) (3.10.0.2)\n",
      "Requirement already satisfied: blinker>=1.0.0 in /home/feynman/.local/lib/python3.9/site-packages (from streamlit==1.11.1->-r requirements.txt (line 9)) (1.5)\n",
      "Requirement already satisfied: validators>=0.2 in /home/feynman/.local/lib/python3.9/site-packages (from streamlit==1.11.1->-r requirements.txt (line 9)) (0.20.0)\n",
      "Requirement already satisfied: toml in /anaconda/lib/python3.9/site-packages (from streamlit==1.11.1->-r requirements.txt (line 9)) (0.10.2)\n",
      "Requirement already satisfied: pydeck>=0.1.dev5 in /home/feynman/.local/lib/python3.9/site-packages (from streamlit==1.11.1->-r requirements.txt (line 9)) (0.8.0)\n",
      "Requirement already satisfied: altair>=3.2.0 in /home/feynman/.local/lib/python3.9/site-packages (from streamlit==1.11.1->-r requirements.txt (line 9)) (4.2.0)\n",
      "Requirement already satisfied: tzlocal>=1.1 in /home/feynman/.local/lib/python3.9/site-packages (from streamlit==1.11.1->-r requirements.txt (line 9)) (4.2)\n",
      "Requirement already satisfied: importlib-metadata>=1.4 in /anaconda/lib/python3.9/site-packages (from streamlit==1.11.1->-r requirements.txt (line 9)) (4.8.1)\n",
      "Requirement already satisfied: pympler>=0.9 in /home/feynman/.local/lib/python3.9/site-packages (from streamlit==1.11.1->-r requirements.txt (line 9)) (1.0.1)\n",
      "Requirement already satisfied: tornado>=5.0 in /anaconda/lib/python3.9/site-packages (from streamlit==1.11.1->-r requirements.txt (line 9)) (6.1)\n",
      "Requirement already satisfied: pyarrow>=4.0 in /home/feynman/.local/lib/python3.9/site-packages (from streamlit==1.11.1->-r requirements.txt (line 9)) (10.0.1)\n",
      "Requirement already satisfied: watchdog in /anaconda/lib/python3.9/site-packages (from streamlit==1.11.1->-r requirements.txt (line 9)) (2.1.3)\n",
      "Requirement already satisfied: semver in /home/feynman/.local/lib/python3.9/site-packages (from streamlit==1.11.1->-r requirements.txt (line 9)) (2.13.0)\n",
      "Requirement already satisfied: protobuf<4,>=3.12 in /home/feynman/.local/lib/python3.9/site-packages (from streamlit==1.11.1->-r requirements.txt (line 9)) (3.20.3)\n",
      "Requirement already satisfied: click>=7.0 in /anaconda/lib/python3.9/site-packages (from streamlit==1.11.1->-r requirements.txt (line 9)) (8.0.3)\n",
      "Requirement already satisfied: numba in /anaconda/lib/python3.9/site-packages (from shap->-r requirements.txt (line 8)) (0.54.1)\n",
      "Requirement already satisfied: tqdm>4.25.0 in /anaconda/lib/python3.9/site-packages (from shap->-r requirements.txt (line 8)) (4.62.3)\n",
      "Requirement already satisfied: cloudpickle in /anaconda/lib/python3.9/site-packages (from shap->-r requirements.txt (line 8)) (2.0.0)\n",
      "Requirement already satisfied: slicer==0.0.7 in /home/feynman/.local/lib/python3.9/site-packages (from shap->-r requirements.txt (line 8)) (0.0.7)\n",
      "Collecting tensorflow-io-gcs-filesystem>=0.23.1\n",
      "  Downloading tensorflow_io_gcs_filesystem-0.28.0-cp39-cp39-manylinux_2_12_x86_64.manylinux2010_x86_64.whl (2.4 MB)\n",
      "\u001b[K     |████████████████████████████████| 2.4 MB 6.9 MB/s eta 0:00:01\n",
      "\u001b[?25hCollecting opt-einsum>=2.3.2\n",
      "  Downloading opt_einsum-3.3.0-py3-none-any.whl (65 kB)\n",
      "\u001b[K     |████████████████████████████████| 65 kB 3.0 MB/s eta 0:00:01\n",
      "\u001b[?25hRequirement already satisfied: six>=1.12.0 in /anaconda/lib/python3.9/site-packages (from tensorflow->-r requirements.txt (line 10)) (1.16.0)\n",
      "Collecting tensorflow-estimator<2.12,>=2.11.0\n",
      "  Downloading tensorflow_estimator-2.11.0-py2.py3-none-any.whl (439 kB)\n",
      "\u001b[K     |████████████████████████████████| 439 kB 5.0 MB/s eta 0:00:01\n",
      "\u001b[?25hCollecting google-pasta>=0.1.1\n",
      "  Downloading google_pasta-0.2.0-py3-none-any.whl (57 kB)\n",
      "\u001b[K     |████████████████████████████████| 57 kB 3.1 MB/s eta 0:00:011\n",
      "\u001b[?25hRequirement already satisfied: wrapt>=1.11.0 in /anaconda/lib/python3.9/site-packages (from tensorflow->-r requirements.txt (line 10)) (1.12.1)\n",
      "Collecting flatbuffers>=2.0\n",
      "  Downloading flatbuffers-22.12.6-py2.py3-none-any.whl (26 kB)\n",
      "Collecting libclang>=13.0.0\n",
      "  Downloading libclang-14.0.6-py2.py3-none-manylinux2010_x86_64.whl (14.1 MB)\n",
      "\u001b[K     |████████████████████████████████| 14.1 MB 3.3 MB/s eta 0:00:01    |▏                               | 51 kB 5.9 MB/s eta 0:00:03     |████▍                           | 1.9 MB 6.1 MB/s eta 0:00:02     |█████████████████████████████▉  | 13.1 MB 3.3 MB/s eta 0:00:01\n",
      "\u001b[?25hCollecting protobuf<4,>=3.12\n",
      "  Downloading protobuf-3.19.6-cp39-cp39-manylinux_2_17_x86_64.manylinux2014_x86_64.whl (1.1 MB)\n",
      "\u001b[K     |████████████████████████████████| 1.1 MB 2.8 MB/s eta 0:00:01\n",
      "\u001b[?25hCollecting grpcio<2.0,>=1.24.3\n",
      "  Downloading grpcio-1.51.1-cp39-cp39-manylinux_2_17_x86_64.manylinux2014_x86_64.whl (4.8 MB)\n",
      "\u001b[K     |████████████████████████████████| 4.8 MB 5.3 MB/s eta 0:00:01     |██████████████▌                 | 2.2 MB 6.1 MB/s eta 0:00:01\n",
      "\u001b[?25hCollecting gast<=0.4.0,>=0.2.1\n",
      "  Downloading gast-0.4.0-py3-none-any.whl (9.8 kB)\n",
      "Collecting absl-py>=1.0.0\n",
      "  Downloading absl_py-1.3.0-py3-none-any.whl (124 kB)\n",
      "\u001b[K     |████████████████████████████████| 124 kB 3.5 MB/s eta 0:00:01\n",
      "\u001b[?25hRequirement already satisfied: h5py>=2.9.0 in /anaconda/lib/python3.9/site-packages (from tensorflow->-r requirements.txt (line 10)) (3.3.0)\n",
      "Collecting astunparse>=1.6.0\n",
      "  Downloading astunparse-1.6.3-py2.py3-none-any.whl (12 kB)\n",
      "Collecting tensorboard<2.12,>=2.11\n",
      "  Downloading tensorboard-2.11.0-py3-none-any.whl (6.0 MB)\n",
      "\u001b[K     |████████████████████████████████| 6.0 MB 4.1 MB/s eta 0:00:01     |██████████████████████████████▊ | 5.8 MB 4.1 MB/s eta 0:00:010 MB 4.1 MB/s eta 0:00:01\n",
      "\u001b[?25hCollecting termcolor>=1.1.0\n",
      "  Downloading termcolor-2.1.1-py3-none-any.whl (6.2 kB)\n",
      "Collecting keras<2.12,>=2.11.0\n",
      "  Downloading keras-2.11.0-py2.py3-none-any.whl (1.7 MB)\n",
      "\u001b[K     |████████████████████████████████| 1.7 MB 3.8 MB/s eta 0:00:01     |███████████▉                    | 624 kB 3.8 MB/s eta 0:00:01\n",
      "\u001b[?25hRequirement already satisfied: stopit>=1.1.1 in /home/feynman/.local/lib/python3.9/site-packages (from tpot->-r requirements.txt (line 11)) (1.1.2)\n",
      "Requirement already satisfied: deap>=1.2 in /home/feynman/.local/lib/python3.9/site-packages (from tpot->-r requirements.txt (line 11)) (1.3.3)\n",
      "Requirement already satisfied: update-checker>=0.16 in /home/feynman/.local/lib/python3.9/site-packages (from tpot->-r requirements.txt (line 11)) (0.18.0)\n",
      "Requirement already satisfied: xgboost>=1.1.0 in /home/feynman/.local/lib/python3.9/site-packages (from tpot->-r requirements.txt (line 11)) (1.7.2)\n",
      "Requirement already satisfied: jinja2 in /anaconda/lib/python3.9/site-packages (from altair>=3.2.0->streamlit==1.11.1->-r requirements.txt (line 9)) (2.11.3)\n",
      "Requirement already satisfied: toolz in /anaconda/lib/python3.9/site-packages (from altair>=3.2.0->streamlit==1.11.1->-r requirements.txt (line 9)) (0.11.1)\n",
      "Requirement already satisfied: jsonschema>=3.0 in /anaconda/lib/python3.9/site-packages (from altair>=3.2.0->streamlit==1.11.1->-r requirements.txt (line 9)) (3.2.0)\n",
      "Requirement already satisfied: entrypoints in /anaconda/lib/python3.9/site-packages (from altair>=3.2.0->streamlit==1.11.1->-r requirements.txt (line 9)) (0.3)\n",
      "Requirement already satisfied: wheel<1.0,>=0.23.0 in /anaconda/lib/python3.9/site-packages (from astunparse>=1.6.0->tensorflow->-r requirements.txt (line 10)) (0.37.0)\n",
      "Requirement already satisfied: gitdb<5,>=4.0.1 in /home/feynman/.local/lib/python3.9/site-packages (from gitpython!=3.1.19->streamlit==1.11.1->-r requirements.txt (line 9)) (4.0.10)\n",
      "Requirement already satisfied: smmap<6,>=3.0.1 in /home/feynman/.local/lib/python3.9/site-packages (from gitdb<5,>=4.0.1->gitpython!=3.1.19->streamlit==1.11.1->-r requirements.txt (line 9)) (5.0.0)\n",
      "Requirement already satisfied: zipp>=0.5 in /anaconda/lib/python3.9/site-packages (from importlib-metadata>=1.4->streamlit==1.11.1->-r requirements.txt (line 9)) (3.6.0)\n",
      "Requirement already satisfied: parso<0.9.0,>=0.8.0 in /anaconda/lib/python3.9/site-packages (from jedi>=0.16->ipython==8.4.0->-r requirements.txt (line 1)) (0.8.2)\n",
      "Requirement already satisfied: pyrsistent>=0.14.0 in /anaconda/lib/python3.9/site-packages (from jsonschema>=3.0->altair>=3.2.0->streamlit==1.11.1->-r requirements.txt (line 9)) (0.18.0)\n",
      "Requirement already satisfied: ptyprocess>=0.5 in /anaconda/lib/python3.9/site-packages (from pexpect>4.3->ipython==8.4.0->-r requirements.txt (line 1)) (0.7.0)\n",
      "Requirement already satisfied: wcwidth in /anaconda/lib/python3.9/site-packages (from prompt-toolkit!=3.0.0,!=3.0.1,<3.1.0,>=2.0.0->ipython==8.4.0->-r requirements.txt (line 1)) (0.2.5)\n",
      "Requirement already satisfied: MarkupSafe>=0.23 in /anaconda/lib/python3.9/site-packages (from jinja2->altair>=3.2.0->streamlit==1.11.1->-r requirements.txt (line 9)) (1.1.1)\n",
      "Requirement already satisfied: urllib3<1.27,>=1.21.1 in /anaconda/lib/python3.9/site-packages (from requests>=2.4->streamlit==1.11.1->-r requirements.txt (line 9)) (1.26.7)\n",
      "Requirement already satisfied: charset-normalizer~=2.0.0 in /anaconda/lib/python3.9/site-packages (from requests>=2.4->streamlit==1.11.1->-r requirements.txt (line 9)) (2.0.4)\n",
      "Requirement already satisfied: idna<4,>=2.5 in /anaconda/lib/python3.9/site-packages (from requests>=2.4->streamlit==1.11.1->-r requirements.txt (line 9)) (3.2)\n",
      "Requirement already satisfied: certifi>=2017.4.17 in /anaconda/lib/python3.9/site-packages (from requests>=2.4->streamlit==1.11.1->-r requirements.txt (line 9)) (2021.10.8)\n",
      "Requirement already satisfied: commonmark<0.10.0,>=0.9.0 in /home/feynman/.local/lib/python3.9/site-packages (from rich>=10.11.0->streamlit==1.11.1->-r requirements.txt (line 9)) (0.9.1)\n",
      "Collecting scipy>=1.3.2\n",
      "  Downloading scipy-1.9.3-cp39-cp39-manylinux_2_17_x86_64.manylinux2014_x86_64.whl (33.8 MB)\n",
      "\u001b[K     |████████████████████████████████| 33.8 MB 6.8 MB/s eta 0:00:01    |▍                               | 430 kB 5.0 MB/s eta 0:00:07     |██████████▌                     | 11.1 MB 1.5 MB/s eta 0:00:16     |███████████████                 | 15.9 MB 3.1 MB/s eta 0:00:06     |██████████████████████████████▎ | 31.9 MB 6.8 MB/s eta 0:00:01\n",
      "\u001b[?25hCollecting tensorboard-data-server<0.7.0,>=0.6.0\n",
      "  Downloading tensorboard_data_server-0.6.1-py3-none-manylinux2010_x86_64.whl (4.9 MB)\n",
      "\u001b[K     |████████████████████████████████| 4.9 MB 4.1 MB/s eta 0:00:01     |█▌                              | 235 kB 4.1 MB/s eta 0:00:02\n",
      "\u001b[?25hCollecting tensorboard-plugin-wit>=1.6.0\n",
      "  Downloading tensorboard_plugin_wit-1.8.1-py3-none-any.whl (781 kB)\n",
      "\u001b[K     |████████████████████████████████| 781 kB 5.3 MB/s eta 0:00:01\n",
      "\u001b[?25hCollecting google-auth<3,>=1.6.3\n",
      "  Downloading google_auth-2.15.0-py2.py3-none-any.whl (177 kB)\n",
      "\u001b[K     |████████████████████████████████| 177 kB 6.4 MB/s eta 0:00:01\n",
      "\u001b[?25hCollecting markdown>=2.6.8\n",
      "  Downloading Markdown-3.4.1-py3-none-any.whl (93 kB)\n",
      "\u001b[K     |████████████████████████████████| 93 kB 1.4 MB/s eta 0:00:01\n",
      "\u001b[?25hCollecting google-auth-oauthlib<0.5,>=0.4.1\n",
      "  Downloading google_auth_oauthlib-0.4.6-py2.py3-none-any.whl (18 kB)\n",
      "Requirement already satisfied: werkzeug>=1.0.1 in /anaconda/lib/python3.9/site-packages (from tensorboard<2.12,>=2.11->tensorflow->-r requirements.txt (line 10)) (2.0.2)\n",
      "Collecting pyasn1-modules>=0.2.1\n",
      "  Downloading pyasn1_modules-0.2.8-py2.py3-none-any.whl (155 kB)\n",
      "\u001b[K     |████████████████████████████████| 155 kB 6.1 MB/s eta 0:00:01\n",
      "\u001b[?25hCollecting rsa<5,>=3.1.4\n",
      "  Downloading rsa-4.9-py3-none-any.whl (34 kB)\n",
      "Collecting requests-oauthlib>=0.7.0\n",
      "  Downloading requests_oauthlib-1.3.1-py2.py3-none-any.whl (23 kB)\n",
      "Collecting pyasn1<0.5.0,>=0.4.6\n",
      "  Downloading pyasn1-0.4.8-py2.py3-none-any.whl (77 kB)\n",
      "\u001b[K     |████████████████████████████████| 77 kB 3.4 MB/s eta 0:00:011\n",
      "\u001b[?25hCollecting oauthlib>=3.0.0\n",
      "  Downloading oauthlib-3.2.2-py3-none-any.whl (151 kB)\n",
      "\u001b[K     |████████████████████████████████| 151 kB 2.1 MB/s eta 0:00:01\n",
      "\u001b[?25hRequirement already satisfied: pytz-deprecation-shim in /home/feynman/.local/lib/python3.9/site-packages (from tzlocal>=1.1->streamlit==1.11.1->-r requirements.txt (line 9)) (0.1.0.post0)\n",
      "Collecting numba\n",
      "  Downloading numba-0.56.4-cp39-cp39-manylinux2014_x86_64.manylinux_2_17_x86_64.whl (3.5 MB)\n",
      "\u001b[K     |████████████████████████████████| 3.5 MB 6.4 MB/s eta 0:00:01\n",
      "\u001b[?25hCollecting llvmlite<0.40,>=0.39.0dev0\n",
      "  Downloading llvmlite-0.39.1-cp39-cp39-manylinux_2_17_x86_64.manylinux2014_x86_64.whl (34.6 MB)\n",
      "\u001b[K     |████████████████████████████████| 34.6 MB 2.5 MB/s eta 0:00:01    |███████▎                        | 7.9 MB 2.2 MB/s eta 0:00:13��█████████████████████████▊  | 32.2 MB 2.5 MB/s eta 0:00:01\n",
      "\u001b[?25hRequirement already satisfied: tzdata in /home/feynman/.local/lib/python3.9/site-packages (from pytz-deprecation-shim->tzlocal>=1.1->streamlit==1.11.1->-r requirements.txt (line 9)) (2022.7)\n",
      "Collecting asttokens>=2.1.0\n",
      "  Downloading asttokens-2.2.1-py2.py3-none-any.whl (26 kB)\n",
      "Collecting pure-eval\n",
      "  Downloading pure_eval-0.2.2-py3-none-any.whl (11 kB)\n",
      "Collecting executing>=1.2.0\n",
      "  Downloading executing-1.2.0-py2.py3-none-any.whl (24 kB)\n",
      "Installing collected packages: pyasn1, rsa, pyasn1-modules, oauthlib, requests-oauthlib, numpy, google-auth, tensorboard-plugin-wit, tensorboard-data-server, scipy, pure-eval, protobuf, pandas, markdown, llvmlite, grpcio, google-auth-oauthlib, executing, asttokens, absl-py, termcolor, tensorflow-io-gcs-filesystem, tensorflow-estimator, tensorboard, tenacity, stack-data, scikit-learn, opt-einsum, numba, matplotlib, libclang, keras, google-pasta, gast, flatbuffers, astunparse, tensorflow, streamlit, plotly, ipython\n",
      "\u001b[33m  WARNING: The scripts pyrsa-decrypt, pyrsa-encrypt, pyrsa-keygen, pyrsa-priv2pub, pyrsa-sign and pyrsa-verify are installed in '/home/feynman/.local/bin' which is not on PATH.\n",
      "  Consider adding this directory to PATH or, if you prefer to suppress this warning, use --no-warn-script-location.\u001b[0m\n",
      "\u001b[33m  WARNING: The scripts f2py, f2py3 and f2py3.9 are installed in '/home/feynman/.local/bin' which is not on PATH.\n",
      "  Consider adding this directory to PATH or, if you prefer to suppress this warning, use --no-warn-script-location.\u001b[0m\n",
      "  Attempting uninstall: protobuf\n",
      "    Found existing installation: protobuf 3.20.3\n",
      "    Uninstalling protobuf-3.20.3:\n",
      "      Successfully uninstalled protobuf-3.20.3\n",
      "\u001b[33m  WARNING: The script markdown_py is installed in '/home/feynman/.local/bin' which is not on PATH.\n",
      "  Consider adding this directory to PATH or, if you prefer to suppress this warning, use --no-warn-script-location.\u001b[0m\n",
      "\u001b[33m  WARNING: The script google-oauthlib-tool is installed in '/home/feynman/.local/bin' which is not on PATH.\n",
      "  Consider adding this directory to PATH or, if you prefer to suppress this warning, use --no-warn-script-location.\u001b[0m\n",
      "\u001b[33m  WARNING: The script tensorboard is installed in '/home/feynman/.local/bin' which is not on PATH.\n",
      "  Consider adding this directory to PATH or, if you prefer to suppress this warning, use --no-warn-script-location.\u001b[0m\n",
      "\u001b[33m  WARNING: The scripts estimator_ckpt_converter, import_pb_to_tensorboard, saved_model_cli, tensorboard, tf_upgrade_v2, tflite_convert, toco and toco_from_protos are installed in '/home/feynman/.local/bin' which is not on PATH.\n",
      "  Consider adding this directory to PATH or, if you prefer to suppress this warning, use --no-warn-script-location.\u001b[0m\n",
      "  Attempting uninstall: streamlit\n",
      "    Found existing installation: streamlit 1.12.0\n",
      "    Uninstalling streamlit-1.12.0:\n",
      "      Successfully uninstalled streamlit-1.12.0\n",
      "\u001b[33m  WARNING: The script streamlit is installed in '/home/feynman/.local/bin' which is not on PATH.\n",
      "  Consider adding this directory to PATH or, if you prefer to suppress this warning, use --no-warn-script-location.\u001b[0m\n",
      "\u001b[33m  WARNING: The scripts ipython and ipython3 are installed in '/home/feynman/.local/bin' which is not on PATH.\n",
      "  Consider adding this directory to PATH or, if you prefer to suppress this warning, use --no-warn-script-location.\u001b[0m\n",
      "\u001b[31mERROR: pip's dependency resolver does not currently take into account all the packages that are installed. This behaviour is the source of the following dependency conflicts.\n",
      "spyder 5.1.5 requires pyqt5<5.13, which is not installed.\n",
      "spyder 5.1.5 requires pyqtwebengine<5.13, which is not installed.\n",
      "daal4py 2021.3.0 requires daal==2021.2.3, which is not installed.\n",
      "ipykernel 6.4.1 requires ipython<8.0,>=7.23.1, but you have ipython 8.4.0 which is incompatible.\u001b[0m\n",
      "Successfully installed absl-py-1.3.0 asttokens-2.2.1 astunparse-1.6.3 executing-1.2.0 flatbuffers-22.12.6 gast-0.4.0 google-auth-2.15.0 google-auth-oauthlib-0.4.6 google-pasta-0.2.0 grpcio-1.51.1 ipython-8.4.0 keras-2.11.0 libclang-14.0.6 llvmlite-0.39.1 markdown-3.4.1 matplotlib-3.5.2 numba-0.56.4 numpy-1.23.1 oauthlib-3.2.2 opt-einsum-3.3.0 pandas-1.4.3 plotly-5.9.0 protobuf-3.19.6 pure-eval-0.2.2 pyasn1-0.4.8 pyasn1-modules-0.2.8 requests-oauthlib-1.3.1 rsa-4.9 scikit-learn-1.1.1 scipy-1.9.3 stack-data-0.6.2 streamlit-1.11.1 tenacity-8.1.0 tensorboard-2.11.0 tensorboard-data-server-0.6.1 tensorboard-plugin-wit-1.8.1 tensorflow-2.11.0 tensorflow-estimator-2.11.0 tensorflow-io-gcs-filesystem-0.28.0 termcolor-2.1.1\n",
      "Note: you may need to restart the kernel to use updated packages.\n"
     ]
    }
   ],
   "source": [
    "pip install -r requirements.txt"
   ]
  },
  {
   "cell_type": "code",
   "execution_count": 4,
   "metadata": {
    "executionInfo": {
     "elapsed": 9671,
     "status": "ok",
     "timestamp": 1670544442995,
     "user": {
      "displayName": "Daniele D'Avino",
      "userId": "07300185247893201343"
     },
     "user_tz": -60
    },
    "id": "1rRo8oNqZ-Rj"
   },
   "outputs": [],
   "source": [
    "import numpy as np\n",
    "import pandas as pd\n",
    "import matplotlib.pyplot as plt\n",
    "import seaborn as sns\n",
    "import streamlit as st\n",
    "import shap\n",
    "\n",
    "# Make NumPy printouts easier to read.\n",
    "np.set_printoptions(precision=3, suppress=True)"
   ]
  },
  {
   "cell_type": "code",
   "execution_count": 5,
   "metadata": {
    "colab": {
     "base_uri": "https://localhost:8080/"
    },
    "executionInfo": {
     "elapsed": 3017,
     "status": "ok",
     "timestamp": 1670544446222,
     "user": {
      "displayName": "Daniele D'Avino",
      "userId": "07300185247893201343"
     },
     "user_tz": -60
    },
    "id": "9xQKvCJ85kCQ",
    "outputId": "af8593b2-f456-4e9b-94c0-585ed38463c4"
   },
   "outputs": [
    {
     "name": "stderr",
     "output_type": "stream",
     "text": [
      "2022-12-09 00:22:52.225465: I tensorflow/core/platform/cpu_feature_guard.cc:193] This TensorFlow binary is optimized with oneAPI Deep Neural Network Library (oneDNN) to use the following CPU instructions in performance-critical operations:  AVX2 FMA\n",
      "To enable them in other operations, rebuild TensorFlow with the appropriate compiler flags.\n",
      "2022-12-09 00:22:52.731416: W tensorflow/compiler/xla/stream_executor/platform/default/dso_loader.cc:64] Could not load dynamic library 'libcudart.so.11.0'; dlerror: libcudart.so.11.0: cannot open shared object file: No such file or directory\n",
      "2022-12-09 00:22:52.731465: I tensorflow/compiler/xla/stream_executor/cuda/cudart_stub.cc:29] Ignore above cudart dlerror if you do not have a GPU set up on your machine.\n",
      "2022-12-09 00:22:53.631097: W tensorflow/compiler/xla/stream_executor/platform/default/dso_loader.cc:64] Could not load dynamic library 'libnvinfer.so.7'; dlerror: libnvinfer.so.7: cannot open shared object file: No such file or directory\n",
      "2022-12-09 00:22:53.631242: W tensorflow/compiler/xla/stream_executor/platform/default/dso_loader.cc:64] Could not load dynamic library 'libnvinfer_plugin.so.7'; dlerror: libnvinfer_plugin.so.7: cannot open shared object file: No such file or directory\n",
      "2022-12-09 00:22:53.631251: W tensorflow/compiler/tf2tensorrt/utils/py_utils.cc:38] TF-TRT Warning: Cannot dlopen some TensorRT libraries. If you would like to use Nvidia GPU with TensorRT, please make sure the missing libraries mentioned above are installed properly.\n"
     ]
    },
    {
     "name": "stdout",
     "output_type": "stream",
     "text": [
      "2.11.0\n"
     ]
    }
   ],
   "source": [
    "import tensorflow as tf\n",
    "from tensorflow import keras\n",
    "from tensorflow.keras import layers\n",
    "\n",
    "print(tf.__version__)"
   ]
  },
  {
   "cell_type": "code",
   "execution_count": 6,
   "metadata": {
    "executionInfo": {
     "elapsed": 391,
     "status": "ok",
     "timestamp": 1670544446609,
     "user": {
      "displayName": "Daniele D'Avino",
      "userId": "07300185247893201343"
     },
     "user_tz": -60
    },
    "id": "GPftjCrNlP7C"
   },
   "outputs": [
    {
     "name": "stderr",
     "output_type": "stream",
     "text": [
      "Warning: optional dependency `torch` is not available. - skipping import of NN models.\n"
     ]
    }
   ],
   "source": [
    "from tpot import TPOTRegressor, TPOTClassifier"
   ]
  },
  {
   "cell_type": "code",
   "execution_count": null,
   "metadata": {
    "id": "f0Xy5DtWl2ka"
   },
   "outputs": [],
   "source": []
  }
 ],
 "metadata": {
  "colab": {
   "provenance": []
  },
  "kernelspec": {
   "display_name": "dev",
   "language": "python",
   "name": "python3"
  },
  "language_info": {
   "codemirror_mode": {
    "name": "ipython",
    "version": 3
   },
   "file_extension": ".py",
   "mimetype": "text/x-python",
   "name": "python",
   "nbconvert_exporter": "python",
   "pygments_lexer": "ipython3",
   "version": "3.9.7"
  },
  "toc": {
   "base_numbering": 1,
   "nav_menu": {},
   "number_sections": true,
   "sideBar": true,
   "skip_h1_title": false,
   "title_cell": "Table of Contents",
   "title_sidebar": "Contents",
   "toc_cell": false,
   "toc_position": {},
   "toc_section_display": true,
   "toc_window_display": true
  },
  "vscode": {
   "interpreter": {
    "hash": "f70fe2e7e7cb52bf2bf0a2d8cc8af5768efe1556307d7c8f07dd0e6b20b16428"
   }
  }
 },
 "nbformat": 4,
 "nbformat_minor": 4
}
